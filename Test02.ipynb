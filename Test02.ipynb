{
 "cells": [
  {
   "cell_type": "markdown",
   "metadata": {},
   "source": []
  },
  {
   "cell_type": "markdown",
   "metadata": {},
   "source": [
    "#  Notebook Test"
   ]
  },
  {
   "cell_type": "markdown",
   "metadata": {},
   "source": [
    "Test $\\LaTeX$ numéro 1 : $\\frac{a}{b}$\n",
    "\n",
    "Test $\\LaTeX$ numéro 2 : $\\displaystyle \\int_{0}^{\\infty} \\frac{sin\\left(x\\right)}{x} \\; dx$\n"
   ]
  },
  {
   "cell_type": "code",
   "execution_count": 1,
   "metadata": {
    "hide_input": false,
    "scrolled": true
   },
   "outputs": [
    {
     "name": "stdout",
     "output_type": "stream",
     "text": [
      "2\n"
     ]
    }
   ],
   "source": [
    "a=2\n",
    "print(a)"
   ]
  },
  {
   "cell_type": "markdown",
   "metadata": {},
   "source": [
    "Test de texte classique\n",
    "\n",
    "Du texte en $\\textbf{Gras}$ , **Gras**, __gras__\n",
    "\n",
    "Du texte en $\\textit{italique}$, *italique*, _italique_ \n",
    "\n",
    "Du text $\\underline{sousligné}$, \n",
    "\n",
    "\n",
    "\n"
   ]
  },
  {
   "cell_type": "markdown",
   "metadata": {},
   "source": [
    "Ceci est un [test](http://google.com/) (hyperlink)"
   ]
  },
  {
   "cell_type": "markdown",
   "metadata": {},
   "source": [
    "Insertion d'une image <img style=\"float: right;\" src=\"Logo_IUT1_UGA.png\" width=\"200\">\n",
    "\n",
    "Utilisation de plusieurs lignes"
   ]
  },
  {
   "cell_type": "code",
   "execution_count": 2,
   "metadata": {},
   "outputs": [],
   "source": [
    "from __future__ import print_function\n",
    "from ipywidgets import interact, interactive, fixed, interact_manual\n",
    "import ipywidgets as widgets"
   ]
  },
  {
   "cell_type": "code",
   "execution_count": 3,
   "metadata": {
    "hide_input": true
   },
   "outputs": [],
   "source": [
    "def f(x):\n",
    "    return x"
   ]
  },
  {
   "cell_type": "code",
   "execution_count": 4,
   "metadata": {
    "hide_input": true
   },
   "outputs": [
    {
     "data": {
      "application/vnd.jupyter.widget-view+json": {
       "model_id": "989757277bac49df892b7740f22c8fa4",
       "version_major": 2,
       "version_minor": 0
      },
      "text/plain": [
       "interactive(children=(IntSlider(value=10, description='x', max=30, min=-10), Output()), _dom_classes=('widget-…"
      ]
     },
     "metadata": {},
     "output_type": "display_data"
    }
   ],
   "source": [
    "interact(f, x=10);"
   ]
  },
  {
   "cell_type": "code",
   "execution_count": 5,
   "metadata": {
    "hide_input": true
   },
   "outputs": [
    {
     "data": {
      "application/vnd.jupyter.widget-view+json": {
       "model_id": "74082a1a8a3c436ba363b7c7a4e9abf9",
       "version_major": 2,
       "version_minor": 0
      },
      "text/plain": [
       "interactive(children=(Checkbox(value=True, description='x'), Output()), _dom_classes=('widget-interact',))"
      ]
     },
     "metadata": {},
     "output_type": "display_data"
    }
   ],
   "source": [
    "interact(f, x=True);"
   ]
  },
  {
   "cell_type": "code",
   "execution_count": 6,
   "metadata": {
    "hide_input": true
   },
   "outputs": [
    {
     "data": {
      "application/vnd.jupyter.widget-view+json": {
       "model_id": "a64135da98734f908378f462ac21d628",
       "version_major": 2,
       "version_minor": 0
      },
      "text/plain": [
       "interactive(children=(Text(value='Hi there!', description='x'), Output()), _dom_classes=('widget-interact',))"
      ]
     },
     "metadata": {},
     "output_type": "display_data"
    }
   ],
   "source": [
    "interact(f, x='Hi there!');"
   ]
  },
  {
   "cell_type": "code",
   "execution_count": 7,
   "metadata": {
    "hide_input": true
   },
   "outputs": [
    {
     "data": {
      "application/vnd.jupyter.widget-view+json": {
       "model_id": "f63f5a78e5a140a28e49dae43fab1f40",
       "version_major": 2,
       "version_minor": 0
      },
      "text/plain": [
       "Button(description='Click me', icon='check', style=ButtonStyle(), tooltip='Click me')"
      ]
     },
     "metadata": {},
     "output_type": "display_data"
    }
   ],
   "source": [
    "widgets.Button(\n",
    "    description='Click me',\n",
    "    disabled=False,\n",
    "    button_style='', # 'success', 'info', 'warning', 'danger' or ''\n",
    "    tooltip='Click me',\n",
    "    icon='check'\n",
    ")"
   ]
  },
  {
   "cell_type": "code",
   "execution_count": 8,
   "metadata": {
    "hide_input": true
   },
   "outputs": [
    {
     "data": {
      "application/vnd.jupyter.widget-view+json": {
       "model_id": "6ea7f5a0d25e47389a52cfec675fa573",
       "version_major": 2,
       "version_minor": 0
      },
      "text/plain": [
       "interactive(children=(FloatSlider(value=5.0, description='freq', max=5.0, min=1.0, step=0.5), Output()), _dom_…"
      ]
     },
     "metadata": {},
     "output_type": "display_data"
    },
    {
     "data": {
      "text/plain": [
       "<function __main__.plot_func(freq)>"
      ]
     },
     "execution_count": 8,
     "metadata": {},
     "output_type": "execute_result"
    }
   ],
   "source": [
    "import matplotlib.pyplot as plt\n",
    "%matplotlib inline\n",
    "\n",
    "import numpy as np\n",
    "\n",
    "def plot_func(freq):\n",
    "    x = np.linspace(0, 2*np.pi,100)\n",
    "    y = np.sin(x * freq)\n",
    "    plt.plot(x, y)\n",
    "\n",
    "interact(plot_func, freq = widgets.FloatSlider(value=7.5,min=1,max=5.0,step=0.5))"
   ]
  },
  {
   "cell_type": "code",
   "execution_count": 9,
   "metadata": {
    "hide_input": true
   },
   "outputs": [
    {
     "data": {
      "application/vnd.jupyter.widget-view+json": {
       "model_id": "c7d6f99023dc449e8d804b100d81d707",
       "version_major": 2,
       "version_minor": 0
      },
      "text/plain": [
       "HBox(children=(Play(value=50, description='Press play'), IntSlider(value=0)))"
      ]
     },
     "metadata": {},
     "output_type": "display_data"
    }
   ],
   "source": [
    "play = widgets.Play(\n",
    "#     interval=10,\n",
    "    value=50,\n",
    "    min=0,\n",
    "    max=100,\n",
    "    step=1,\n",
    "    description=\"Press play\",\n",
    "    disabled=False\n",
    ")\n",
    "slider = widgets.IntSlider()\n",
    "widgets.jslink((play, 'value'), (slider, 'value'))\n",
    "widgets.HBox([play, slider])\n"
   ]
  },
  {
   "cell_type": "code",
   "execution_count": 10,
   "metadata": {
    "hide_input": true
   },
   "outputs": [
    {
     "data": {
      "application/vnd.jupyter.widget-view+json": {
       "model_id": "4dbca386c930431198e47303a57a4b14",
       "version_major": 2,
       "version_minor": 0
      },
      "text/plain": [
       "Tab(children=(Text(value='', description='P0'), Text(value='', description='P1'), Text(value='', description='…"
      ]
     },
     "metadata": {},
     "output_type": "display_data"
    }
   ],
   "source": [
    "tab_contents = ['P0', 'P1', 'P2', 'P3', 'P4']\n",
    "children = [widgets.Text(description=name) for name in tab_contents]\n",
    "tab = widgets.Tab()\n",
    "tab.children = children\n",
    "for i in range(len(children)):\n",
    "    tab.set_title(i, str(i))\n",
    "tab"
   ]
  },
  {
   "cell_type": "code",
   "execution_count": 11,
   "metadata": {
    "hide_input": true
   },
   "outputs": [
    {
     "data": {
      "image/jpeg": "[encoded data removed]",
      "text/html": [
       "\n",
       "        <iframe\n",
       "            width=\"400\"\n",
       "            height=\"300\"\n",
       "            src=\"https://www.youtube.com/embed/eWzY2nGfkXk\"\n",
       "            frameborder=\"0\"\n",
       "            allowfullscreen\n",
       "        ></iframe>\n",
       "        "
      ],
      "text/plain": [
       "<IPython.lib.display.YouTubeVideo at 0x7f9009630940>"
      ]
     },
     "metadata": {},
     "output_type": "display_data"
    }
   ],
   "source": [
    "from IPython.display import YouTubeVideo\n",
    "out = widgets.Output(layout={'border': '1px solid black'})\n",
    "display(YouTubeVideo('eWzY2nGfkXk'))"
   ]
  },
  {
   "cell_type": "code",
   "execution_count": 12,
   "metadata": {
    "hide_input": true
   },
   "outputs": [
    {
     "data": {
      "text/html": [
       "<div style=\"width:100%;\"><div style=\"position:relative;width:100%;height:0;padding-bottom:60%;\"><iframe src=\"data:text/html;charset=utf-8;base64,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\" style=\"position:absolute;width:100%;height:100%;left:0;top:0;border:none !important;\" allowfullscreen webkitallowfullscreen mozallowfullscreen></iframe></div></div>"
      ],
      "text/plain": [
       "<folium.folium.Map at 0x7f900961fda0>"
      ]
     },
     "execution_count": 12,
     "metadata": {},
     "output_type": "execute_result"
    }
   ],
   "source": [
    "import folium\n",
    "m = folium.Map(\n",
    "    location=[45.372, -121.6972],\n",
    "    zoom_start=12,\n",
    "    tiles='Stamen Terrain'\n",
    ")\n",
    "\n",
    "folium.Marker(\n",
    "    location=[45.3288, -121.6625],\n",
    "    popup='Mt. Hood Meadows',\n",
    "    icon=folium.Icon(icon='cloud')\n",
    ").add_to(m)\n",
    "\n",
    "folium.Marker(\n",
    "    location=[45.3311, -121.7113],\n",
    "    popup='Timberline Lodge',\n",
    "    icon=folium.Icon(color='green')\n",
    ").add_to(m)\n",
    "\n",
    "folium.Marker(\n",
    "    location=[45.3300, -121.6823],\n",
    "    popup='Some Other Location',\n",
    "    icon=folium.Icon(color='red', icon='info-sign')\n",
    ").add_to(m)\n",
    "\n",
    "\n",
    "m\n"
   ]
  },
  {
   "cell_type": "code",
   "execution_count": null,
   "metadata": {},
   "outputs": [],
   "source": []
  }
 ],
 "metadata": {
  "celltoolbar": "Format de la Cellule Texte Brut",
  "kernelspec": {
   "display_name": "Python 3",
   "language": "python",
   "name": "python3"
  },
  "language_info": {
   "codemirror_mode": {
    "name": "ipython",
    "version": 3
   },
   "file_extension": ".py",
   "mimetype": "text/x-python",
   "name": "python",
   "nbconvert_exporter": "python",
   "pygments_lexer": "ipython3",
   "version": "3.7.1"
  },
  "widgets": {
   "application/vnd.jupyter.widget-state+json": {
    "state": {
     "0262259543b84ec8b05ef8128a11d36d": {
      "model_module": "@jupyter-widgets/controls",
      "model_module_version": "1.4.0",
      "model_name": "FloatSliderModel",
      "state": {
       "description": "freq",
       "layout": "IPY_MODEL_770f35ed30b1455499ecf89c230e7061",
       "max": 5,
       "min": 1,
       "step": 0.5,
       "style": "IPY_MODEL_537067e54dae4e45a810cd56761b7164",
       "value": 5
      }
     },
     "028c3e9df0f642c98807b4cfbff65fab": {
      "model_module": "@jupyter-widgets/base",
      "model_module_version": "1.1.0",
      "model_name": "LayoutModel",
      "state": {}
     },
     "05aef10814b7485499a6402d5f0abe77": {
      "model_module": "@jupyter-widgets/controls",
      "model_module_version": "1.4.0",
      "model_name": "DescriptionStyleModel",
      "state": {
       "description_width": ""
      }
     },
     "0722edbd394744488bd9069be59be240": {
      "model_module": "@jupyter-widgets/base",
      "model_module_version": "1.1.0",
      "model_name": "LayoutModel",
      "state": {}
     },
     "07244368be884d8d90d243d92d70ffb7": {
      "model_module": "@jupyter-widgets/controls",
      "model_module_version": "1.4.0",
      "model_name": "TextModel",
      "state": {
       "description": "P2",
       "layout": "IPY_MODEL_7b4a29d45a9a427a97b2df55e7812227",
       "style": "IPY_MODEL_a97ec7a4b33249d2aed45a520f97ee75"
      }
     },
     "0766485daff7436f9c87d61a9d833bf9": {
      "model_module": "@jupyter-widgets/base",
      "model_module_version": "1.1.0",
      "model_name": "LayoutModel",
      "state": {}
     },
     "0a197c1285c447d4bf2c40eb665cf6d1": {
      "model_module": "@jupyter-widgets/controls",
      "model_module_version": "1.4.0",
      "model_name": "LinkModel",
      "state": {
       "source": [
        "IPY_MODEL_6ae11c5980944db98630987eaa5fd2dd",
        "value"
       ],
       "target": [
        "IPY_MODEL_d2ceaf7f60dd453ca511c8c6c1c583f2",
        "value"
       ]
      }
     },
     "0b3610a348dd46b096ea30619bb4cfd2": {
      "model_module": "@jupyter-widgets/base",
      "model_module_version": "1.1.0",
      "model_name": "LayoutModel",
      "state": {}
     },
     "0bc39d8baa694d36bb1ec0c28cf93fe5": {
      "model_module": "@jupyter-widgets/base",
      "model_module_version": "1.1.0",
      "model_name": "LayoutModel",
      "state": {}
     },
     "0bd3ab9c525b44559ab787800e063d18": {
      "model_module": "@jupyter-widgets/controls",
      "model_module_version": "1.4.0",
      "model_name": "VBoxModel",
      "state": {
       "_dom_classes": [
        "widget-interact"
       ],
       "children": [
        "IPY_MODEL_0db2c353972748b2b69ddc7195fe49b4",
        "IPY_MODEL_55ae7f0b14554d17822487a152533f87"
       ],
       "layout": "IPY_MODEL_9c42309a59f3453aa6e40230ab234612"
      }
     },
     "0be25772d25f42eab54eabc71df197a6": {
      "model_module": "@jupyter-widgets/base",
      "model_module_version": "1.1.0",
      "model_name": "LayoutModel",
      "state": {}
     },
     "0d8f9cc847f946fab7ea843f6d1afe16": {
      "model_module": "@jupyter-widgets/base",
      "model_module_version": "1.1.0",
      "model_name": "LayoutModel",
      "state": {}
     },
     "0db2c353972748b2b69ddc7195fe49b4": {
      "model_module": "@jupyter-widgets/controls",
      "model_module_version": "1.4.0",
      "model_name": "FloatSliderModel",
      "state": {
       "description": "freq",
       "layout": "IPY_MODEL_a71e2113e4804781bef6eb45045cfd58",
       "max": 5,
       "min": 1,
       "step": 0.5,
       "style": "IPY_MODEL_34c4dfe28bd5416394b4f312328d3106",
       "value": 5
      }
     },
     "0fa95104018041f0aa52aeeecde620c2": {
      "model_module": "@jupyter-widgets/controls",
      "model_module_version": "1.4.0",
      "model_name": "TextModel",
      "state": {
       "description": "P3",
       "layout": "IPY_MODEL_5244e9e3133641138b6577c62c6d2456",
       "style": "IPY_MODEL_98fe57440f1d45f2ae2b4f1a0e6059c9"
      }
     },
     "113bba92b091463fb973c4ee833a602a": {
      "model_module": "@jupyter-widgets/base",
      "model_module_version": "1.1.0",
      "model_name": "LayoutModel",
      "state": {}
     },
     "117237557d5b4648a18176f183d88019": {
      "model_module": "@jupyter-widgets/base",
      "model_module_version": "1.1.0",
      "model_name": "LayoutModel",
      "state": {}
     },
     "11c3dafc395f4559ab128350ec9261e1": {
      "model_module": "@jupyter-widgets/output",
      "model_module_version": "1.0.0",
      "model_name": "OutputModel",
      "state": {
       "layout": "IPY_MODEL_1359cb1ec2514f70b52d7077717649b8",
       "outputs": [
        {
         "data": {
          "text/plain": "10"
         },
         "metadata": {},
         "output_type": "display_data"
        }
       ]
      }
     },
     "122a7481f71845e4a692d8a4d4231911": {
      "model_module": "@jupyter-widgets/base",
      "model_module_version": "1.1.0",
      "model_name": "LayoutModel",
      "state": {}
     },
     "12ceadc1c3204fdebf6be303acb5686b": {
      "model_module": "@jupyter-widgets/controls",
      "model_module_version": "1.4.0",
      "model_name": "SliderStyleModel",
      "state": {
       "description_width": ""
      }
     },
     "1359cb1ec2514f70b52d7077717649b8": {
      "model_module": "@jupyter-widgets/base",
      "model_module_version": "1.1.0",
      "model_name": "LayoutModel",
      "state": {}
     },
     "1618d1f9a11445a3b6ef7fced7541c8b": {
      "model_module": "@jupyter-widgets/controls",
      "model_module_version": "1.4.0",
      "model_name": "TextModel",
      "state": {
       "description": "P4",
       "layout": "IPY_MODEL_2091bf4f52da4e43aa8813aa5d909a0c",
       "style": "IPY_MODEL_572c1e08713f47709e74a6c199e47d4a"
      }
     },
     "1650a4670cdd41219e717734cac07d9b": {
      "model_module": "@jupyter-widgets/base",
      "model_module_version": "1.1.0",
      "model_name": "LayoutModel",
      "state": {}
     },
     "16e95b061dcc4f148629a92f8f967b85": {
      "model_module": "@jupyter-widgets/base",
      "model_module_version": "1.1.0",
      "model_name": "LayoutModel",
      "state": {}
     },
     "17de40897687415bb7d04c8dcf645efa": {
      "model_module": "@jupyter-widgets/base",
      "model_module_version": "1.1.0",
      "model_name": "LayoutModel",
      "state": {}
     },
     "1abaedef1de644a483338d8f60fc3e9b": {
      "model_module": "@jupyter-widgets/controls",
      "model_module_version": "1.4.0",
      "model_name": "VBoxModel",
      "state": {
       "_dom_classes": [
        "widget-interact"
       ],
       "children": [
        "IPY_MODEL_c7ec574b484547139b977f88a64bd1e2",
        "IPY_MODEL_8648566376c642ce98b2aef5c88aa1f3"
       ],
       "layout": "IPY_MODEL_82e08421bd9c424880477ca0be85b996"
      }
     },
     "1e60b44234d845afb98d3cde8c534288": {
      "model_module": "@jupyter-widgets/base",
      "model_module_version": "1.1.0",
      "model_name": "LayoutModel",
      "state": {}
     },
     "1eeb186f13d744cf997c1bf3215e9616": {
      "model_module": "@jupyter-widgets/base",
      "model_module_version": "1.1.0",
      "model_name": "LayoutModel",
      "state": {}
     },
     "1fc7fb64c9d74fe3a42b4f84a9eb45eb": {
      "model_module": "@jupyter-widgets/controls",
      "model_module_version": "1.4.0",
      "model_name": "DescriptionStyleModel",
      "state": {
       "description_width": ""
      }
     },
     "201447eb0a9040d4b5c19f287574e3b5": {
      "model_module": "@jupyter-widgets/controls",
      "model_module_version": "1.4.0",
      "model_name": "DescriptionStyleModel",
      "state": {
       "description_width": ""
      }
     },
     "2091bf4f52da4e43aa8813aa5d909a0c": {
      "model_module": "@jupyter-widgets/base",
      "model_module_version": "1.1.0",
      "model_name": "LayoutModel",
      "state": {}
     },
     "213c15d2300949bdaba7b8da00d2a41d": {
      "model_module": "@jupyter-widgets/controls",
      "model_module_version": "1.4.0",
      "model_name": "IntSliderModel",
      "state": {
       "layout": "IPY_MODEL_33e635b089444e3e8124a7526992d720",
       "style": "IPY_MODEL_cea89ef20a3141239a795c47f50af62b",
       "value": 50
      }
     },
     "225fe727b4074230b9d546b7ef6f8b8c": {
      "model_module": "@jupyter-widgets/controls",
      "model_module_version": "1.4.0",
      "model_name": "TextModel",
      "state": {
       "description": "P4",
       "layout": "IPY_MODEL_d2551745cb8f4f3e98f666b08562ce49",
       "style": "IPY_MODEL_3bde6b1573344663ae3630863f1fcdce"
      }
     },
     "2409f0318c034618bab04626d79c2d74": {
      "model_module": "@jupyter-widgets/controls",
      "model_module_version": "1.4.0",
      "model_name": "DescriptionStyleModel",
      "state": {
       "description_width": ""
      }
     },
     "27b4b3c3755546eea35b7c6a953ade84": {
      "model_module": "@jupyter-widgets/controls",
      "model_module_version": "1.4.0",
      "model_name": "DescriptionStyleModel",
      "state": {
       "description_width": ""
      }
     },
     "2a241a2e828547c4b3ffc10d9d56eb8b": {
      "model_module": "@jupyter-widgets/controls",
      "model_module_version": "1.4.0",
      "model_name": "HBoxModel",
      "state": {
       "children": [
        "IPY_MODEL_eb36dd598c4947f7adc3573dedb200d1",
        "IPY_MODEL_213c15d2300949bdaba7b8da00d2a41d"
       ],
       "layout": "IPY_MODEL_b6242c95d5f149b4ac9807504ed02455"
      }
     },
     "2b4cf919360846c7aef1451f67e32f70": {
      "model_module": "@jupyter-widgets/controls",
      "model_module_version": "1.4.0",
      "model_name": "TabModel",
      "state": {
       "_titles": {
        "0": "0",
        "1": "1",
        "2": "2",
        "3": "3",
        "4": "4"
       },
       "children": [
        "IPY_MODEL_7e2732c620c4407bb2e7f069df2bd18d",
        "IPY_MODEL_e1c4579c14de47f2b84039f7d8aaa4af",
        "IPY_MODEL_96bf92e7afaf449096aee713ff9172cc",
        "IPY_MODEL_0fa95104018041f0aa52aeeecde620c2",
        "IPY_MODEL_225fe727b4074230b9d546b7ef6f8b8c"
       ],
       "layout": "IPY_MODEL_f49bca9ace6542bd9b8994f1aaed9671"
      }
     },
     "2cabe6fae8e744eba3cdbac1d87e4c95": {
      "model_module": "@jupyter-widgets/controls",
      "model_module_version": "1.4.0",
      "model_name": "CheckboxModel",
      "state": {
       "description": "x",
       "disabled": false,
       "layout": "IPY_MODEL_0be25772d25f42eab54eabc71df197a6",
       "style": "IPY_MODEL_27b4b3c3755546eea35b7c6a953ade84",
       "value": true
      }
     },
     "2d88f851917c4b789e3a519558e80b05": {
      "model_module": "@jupyter-widgets/controls",
      "model_module_version": "1.4.0",
      "model_name": "TextModel",
      "state": {
       "description": "P1",
       "layout": "IPY_MODEL_17de40897687415bb7d04c8dcf645efa",
       "style": "IPY_MODEL_f321731292a7412292da07febdfecc2d"
      }
     },
     "2dd13a4e68f14edd9b2c16f6c95a2f7a": {
      "model_module": "@jupyter-widgets/base",
      "model_module_version": "1.1.0",
      "model_name": "LayoutModel",
      "state": {}
     },
     "2ea0fef059024738b699c0f54115dbfd": {
      "model_module": "@jupyter-widgets/base",
      "model_module_version": "1.1.0",
      "model_name": "LayoutModel",
      "state": {}
     },
     "2f90ddb746704accb487bbe8edca5588": {
      "model_module": "@jupyter-widgets/controls",
      "model_module_version": "1.4.0",
      "model_name": "DescriptionStyleModel",
      "state": {
       "description_width": ""
      }
     },
     "2f91695d4b054d8c8bbfe91f5f7fad4d": {
      "model_module": "@jupyter-widgets/controls",
      "model_module_version": "1.4.0",
      "model_name": "ButtonStyleModel",
      "state": {}
     },
     "31b80737401c4a4f8f06ab0eb5e8f53c": {
      "model_module": "@jupyter-widgets/controls",
      "model_module_version": "1.4.0",
      "model_name": "HBoxModel",
      "state": {
       "children": [
        "IPY_MODEL_d147df2823e74bf29a7217af0b65dbe0",
        "IPY_MODEL_92fbe60e75e64051a4177a251f486d1a"
       ],
       "layout": "IPY_MODEL_7cfd482278a04c8baf50cd24855232fe"
      }
     },
     "3296dd31ce644da6b11a6cd0f8fc9168": {
      "model_module": "@jupyter-widgets/output",
      "model_module_version": "1.0.0",
      "model_name": "OutputModel",
      "state": {
       "layout": "IPY_MODEL_58c06e06e5dc462297bb9ed5ada816ea"
      }
     },
     "33e635b089444e3e8124a7526992d720": {
      "model_module": "@jupyter-widgets/base",
      "model_module_version": "1.1.0",
      "model_name": "LayoutModel",
      "state": {}
     },
     "342101680a534d958710c443f3870e97": {
      "model_module": "@jupyter-widgets/controls",
      "model_module_version": "1.4.0",
      "model_name": "IntSliderModel",
      "state": {
       "layout": "IPY_MODEL_46624db8c2204c4fb6cccf9a41563be1",
       "style": "IPY_MODEL_c711f7f6be294ad8870830219164bf2c",
       "value": 50
      }
     },
     "3440deb2f78449e386ae05aa0b03cf81": {
      "model_module": "@jupyter-widgets/controls",
      "model_module_version": "1.4.0",
      "model_name": "ButtonStyleModel",
      "state": {}
     },
     "34c2702a5e8c43fb8fc1258ce1da1c35": {
      "model_module": "@jupyter-widgets/controls",
      "model_module_version": "1.4.0",
      "model_name": "DescriptionStyleModel",
      "state": {
       "description_width": ""
      }
     },
     "34c4dfe28bd5416394b4f312328d3106": {
      "model_module": "@jupyter-widgets/controls",
      "model_module_version": "1.4.0",
      "model_name": "SliderStyleModel",
      "state": {
       "description_width": ""
      }
     },
     "35d2564b08894fce82828b70c9c1288b": {
      "model_module": "@jupyter-widgets/controls",
      "model_module_version": "1.4.0",
      "model_name": "VBoxModel",
      "state": {
       "_dom_classes": [
        "widget-interact"
       ],
       "children": [
        "IPY_MODEL_e2d75822882a4e6f833ad7db2aa40d5c",
        "IPY_MODEL_67fac6adb7bf46629816ffff389bf4b6"
       ],
       "layout": "IPY_MODEL_0d8f9cc847f946fab7ea843f6d1afe16"
      }
     },
     "37363e8c1dac4122a8a1acd74a1cb17f": {
      "model_module": "@jupyter-widgets/controls",
      "model_module_version": "1.4.0",
      "model_name": "ButtonModel",
      "state": {
       "description": "Click me",
       "icon": "check",
       "layout": "IPY_MODEL_4511ddecb8af435696b18fd49e4bfcad",
       "style": "IPY_MODEL_5c300a597a5e49f4b758712090503579",
       "tooltip": "Click me"
      }
     },
     "37e0b923f50a41609d11c599494a79e3": {
      "model_module": "@jupyter-widgets/controls",
      "model_module_version": "1.4.0",
      "model_name": "TextModel",
      "state": {
       "description": "P1",
       "layout": "IPY_MODEL_44b70799ea1e437ca3487275f4caa22f",
       "style": "IPY_MODEL_52ba69c0c1db4bc1b97eb6417b966254"
      }
     },
     "3945ade21a0d43b882c4c709a89fc3fd": {
      "model_module": "@jupyter-widgets/base",
      "model_module_version": "1.1.0",
      "model_name": "LayoutModel",
      "state": {}
     },
     "3a3b430c507c4f628b3785362ddb317e": {
      "model_module": "@jupyter-widgets/controls",
      "model_module_version": "1.4.0",
      "model_name": "DescriptionStyleModel",
      "state": {
       "description_width": ""
      }
     },
     "3ab1c97cc3f84fdba437e5be71bbefef": {
      "model_module": "@jupyter-widgets/base",
      "model_module_version": "1.1.0",
      "model_name": "LayoutModel",
      "state": {}
     },
     "3bde6b1573344663ae3630863f1fcdce": {
      "model_module": "@jupyter-widgets/controls",
      "model_module_version": "1.4.0",
      "model_name": "DescriptionStyleModel",
      "state": {
       "description_width": ""
      }
     },
     "3c1919c8d4e5453986191230fbdb48a0": {
      "model_module": "@jupyter-widgets/controls",
      "model_module_version": "1.4.0",
      "model_name": "SliderStyleModel",
      "state": {
       "description_width": ""
      }
     },
     "3c8b3a2630f24452b67881f04a7c6041": {
      "model_module": "@jupyter-widgets/controls",
      "model_module_version": "1.4.0",
      "model_name": "ButtonStyleModel",
      "state": {}
     },
     "3f0a5a0173b44df5a11e1eff1f25e2b6": {
      "model_module": "@jupyter-widgets/base",
      "model_module_version": "1.1.0",
      "model_name": "LayoutModel",
      "state": {}
     },
     "3f4057fe328e4652921d5991e00e02c4": {
      "model_module": "@jupyter-widgets/controls",
      "model_module_version": "1.4.0",
      "model_name": "HBoxModel",
      "state": {
       "children": [
        "IPY_MODEL_94cb1fc4a9e34a7f8fd311ea940e9ac1",
        "IPY_MODEL_342101680a534d958710c443f3870e97"
       ],
       "layout": "IPY_MODEL_95b78a82de69421da403c2b88f6bd5c9"
      }
     },
     "403adddcb8934a9c851acddd761459ed": {
      "model_module": "@jupyter-widgets/base",
      "model_module_version": "1.1.0",
      "model_name": "LayoutModel",
      "state": {}
     },
     "41fd01f7a9864e48a0189cda6ce3b278": {
      "model_module": "@jupyter-widgets/base",
      "model_module_version": "1.1.0",
      "model_name": "LayoutModel",
      "state": {}
     },
     "42d800ad5fbd4a339ba9fad4b42f008c": {
      "model_module": "@jupyter-widgets/base",
      "model_module_version": "1.1.0",
      "model_name": "LayoutModel",
      "state": {}
     },
     "4459985fcccf4fb081e8a55159c59c0c": {
      "model_module": "@jupyter-widgets/controls",
      "model_module_version": "1.4.0",
      "model_name": "DescriptionStyleModel",
      "state": {
       "description_width": ""
      }
     },
     "448394e1993841fea470bae03759fac3": {
      "model_module": "@jupyter-widgets/base",
      "model_module_version": "1.1.0",
      "model_name": "LayoutModel",
      "state": {}
     },
     "44af83b8540642239f38554ee3f24c0a": {
      "model_module": "@jupyter-widgets/output",
      "model_module_version": "1.0.0",
      "model_name": "OutputModel",
      "state": {
       "layout": "IPY_MODEL_3ab1c97cc3f84fdba437e5be71bbefef",
       "outputs": [
        {
         "data": {
          "text/plain": "'Hi there!'"
         },
         "metadata": {},
         "output_type": "display_data"
        }
       ]
      }
     },
     "44b70799ea1e437ca3487275f4caa22f": {
      "model_module": "@jupyter-widgets/base",
      "model_module_version": "1.1.0",
      "model_name": "LayoutModel",
      "state": {}
     },
     "4502d96d0abc4a62b1fc58c5ad6876b5": {
      "model_module": "@jupyter-widgets/base",
      "model_module_version": "1.1.0",
      "model_name": "LayoutModel",
      "state": {}
     },
     "4511ddecb8af435696b18fd49e4bfcad": {
      "model_module": "@jupyter-widgets/base",
      "model_module_version": "1.1.0",
      "model_name": "LayoutModel",
      "state": {}
     },
     "45afb26d25284b6aafefc90cbb828877": {
      "model_module": "@jupyter-widgets/base",
      "model_module_version": "1.1.0",
      "model_name": "LayoutModel",
      "state": {
       "border": "1px solid black"
      }
     },
     "4617e6f3c8654b72be5aefd1a2f22584": {
      "model_module": "@jupyter-widgets/controls",
      "model_module_version": "1.4.0",
      "model_name": "DescriptionStyleModel",
      "state": {
       "description_width": ""
      }
     },
     "46624db8c2204c4fb6cccf9a41563be1": {
      "model_module": "@jupyter-widgets/base",
      "model_module_version": "1.1.0",
      "model_name": "LayoutModel",
      "state": {}
     },
     "469a6229dad24ae8afed5ddc734e267b": {
      "model_module": "@jupyter-widgets/base",
      "model_module_version": "1.1.0",
      "model_name": "LayoutModel",
      "state": {}
     },
     "47124ccfff6541db9bd7599a7f94c061": {
      "model_module": "@jupyter-widgets/controls",
      "model_module_version": "1.4.0",
      "model_name": "DescriptionStyleModel",
      "state": {
       "description_width": ""
      }
     },
     "486e8c0f5b9e46dd928ae04455cf50aa": {
      "model_module": "@jupyter-widgets/base",
      "model_module_version": "1.1.0",
      "model_name": "LayoutModel",
      "state": {}
     },
     "4959a176e0674817a8cca92286f87a1c": {
      "model_module": "@jupyter-widgets/output",
      "model_module_version": "1.0.0",
      "model_name": "OutputModel",
      "state": {
       "layout": "IPY_MODEL_e8960217051a4e4688c1a0b1fc9a6917",
       "outputs": [
        {
         "data": {
          "text/plain": "True"
         },
         "metadata": {},
         "output_type": "display_data"
        }
       ]
      }
     },
     "4cffa73ffd004883878e29331873b01a": {
      "model_module": "@jupyter-widgets/controls",
      "model_module_version": "1.4.0",
      "model_name": "SliderStyleModel",
      "state": {
       "description_width": ""
      }
     },
     "4dbca386c930431198e47303a57a4b14": {
      "model_module": "@jupyter-widgets/controls",
      "model_module_version": "1.4.0",
      "model_name": "TabModel",
      "state": {
       "_titles": {
        "0": "0",
        "1": "1",
        "2": "2",
        "3": "3",
        "4": "4"
       },
       "children": [
        "IPY_MODEL_a5a8aa73d52b435aafe0ded5b0927daa",
        "IPY_MODEL_37e0b923f50a41609d11c599494a79e3",
        "IPY_MODEL_fcf3345d4296418087113c3881a2a553",
        "IPY_MODEL_91c69678812d4e93bebdb6db6ad14060",
        "IPY_MODEL_f7f6c6b048b64f51ae20981b7837a615"
       ],
       "layout": "IPY_MODEL_2ea0fef059024738b699c0f54115dbfd"
      }
     },
     "4ff1e21827074b55bb52cb4a07b90d82": {
      "model_module": "@jupyter-widgets/base",
      "model_module_version": "1.1.0",
      "model_name": "LayoutModel",
      "state": {}
     },
     "50232cdedc834238bb30bbe2cb12222c": {
      "model_module": "@jupyter-widgets/base",
      "model_module_version": "1.1.0",
      "model_name": "LayoutModel",
      "state": {}
     },
     "5040d7c1d4de43fcae1ba9e7c3ac8a0d": {
      "model_module": "@jupyter-widgets/controls",
      "model_module_version": "1.4.0",
      "model_name": "TextModel",
      "state": {
       "description": "x",
       "layout": "IPY_MODEL_8683211b6b654689bd891a9762e92f91",
       "style": "IPY_MODEL_ceb93990914b43f8b3d06de46abd9f58",
       "value": "Hi there!"
      }
     },
     "50aeb088edd44bf288f10dc626942de9": {
      "model_module": "@jupyter-widgets/controls",
      "model_module_version": "1.4.0",
      "model_name": "LinkModel",
      "state": {
       "source": [
        "IPY_MODEL_de3dc3fdb6434826a15222a401a482f0",
        "value"
       ],
       "target": [
        "IPY_MODEL_cca7a5b1f87f46f18ded5b09bb3303b7",
        "value"
       ]
      }
     },
     "511351e86f0b4a8f838554d430931fda": {
      "model_module": "@jupyter-widgets/controls",
      "model_module_version": "1.4.0",
      "model_name": "TextModel",
      "state": {
       "description": "P3",
       "layout": "IPY_MODEL_028c3e9df0f642c98807b4cfbff65fab",
       "style": "IPY_MODEL_c1462cd8d6494acd978323bfd486b551"
      }
     },
     "51e3cb8011f24051a7a67d1d7bba6f5e": {
      "model_module": "@jupyter-widgets/base",
      "model_module_version": "1.1.0",
      "model_name": "LayoutModel",
      "state": {}
     },
     "521f448b08aa4dd694cbdf0a3b81f06d": {
      "model_module": "@jupyter-widgets/controls",
      "model_module_version": "1.4.0",
      "model_name": "TextModel",
      "state": {
       "description": "P3",
       "layout": "IPY_MODEL_1650a4670cdd41219e717734cac07d9b",
       "style": "IPY_MODEL_81e21ea6fb25423f85e798c83d7cbac3"
      }
     },
     "5244e9e3133641138b6577c62c6d2456": {
      "model_module": "@jupyter-widgets/base",
      "model_module_version": "1.1.0",
      "model_name": "LayoutModel",
      "state": {}
     },
     "52ba69c0c1db4bc1b97eb6417b966254": {
      "model_module": "@jupyter-widgets/controls",
      "model_module_version": "1.4.0",
      "model_name": "DescriptionStyleModel",
      "state": {
       "description_width": ""
      }
     },
     "537067e54dae4e45a810cd56761b7164": {
      "model_module": "@jupyter-widgets/controls",
      "model_module_version": "1.4.0",
      "model_name": "SliderStyleModel",
      "state": {
       "description_width": ""
      }
     },
     "5497272ae0cd4fb493197e1e712134f3": {
      "model_module": "@jupyter-widgets/base",
      "model_module_version": "1.1.0",
      "model_name": "LayoutModel",
      "state": {}
     },
     "55ae7f0b14554d17822487a152533f87": {
      "model_module": "@jupyter-widgets/output",
      "model_module_version": "1.0.0",
      "model_name": "OutputModel",
      "state": {
       "layout": "IPY_MODEL_3f0a5a0173b44df5a11e1eff1f25e2b6",
       "outputs": [
        {
         "data": {
          "image/png": "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\n",
          "text/plain": "<Figure size 432x288 with 1 Axes>"
         },
         "metadata": {
          "needs_background": "light"
         },
         "output_type": "display_data"
        }
       ]
      }
     },
     "55fbd73b2e064b21a469a94b8a73ceda": {
      "model_module": "@jupyter-widgets/output",
      "model_module_version": "1.0.0",
      "model_name": "OutputModel",
      "state": {
       "layout": "IPY_MODEL_45afb26d25284b6aafefc90cbb828877"
      }
     },
     "561af951825945f38e6f6963532261b1": {
      "model_module": "@jupyter-widgets/base",
      "model_module_version": "1.1.0",
      "model_name": "LayoutModel",
      "state": {}
     },
     "56bfd7b439ce4914ace6fa87a6fb14e6": {
      "model_module": "@jupyter-widgets/base",
      "model_module_version": "1.1.0",
      "model_name": "LayoutModel",
      "state": {}
     },
     "56ee24d71e2c4b69843bbb773aeac100": {
      "model_module": "@jupyter-widgets/controls",
      "model_module_version": "1.4.0",
      "model_name": "SliderStyleModel",
      "state": {
       "description_width": ""
      }
     },
     "572c1e08713f47709e74a6c199e47d4a": {
      "model_module": "@jupyter-widgets/controls",
      "model_module_version": "1.4.0",
      "model_name": "DescriptionStyleModel",
      "state": {
       "description_width": ""
      }
     },
     "5793749c6db24ca7a6e88b52fb694434": {
      "model_module": "@jupyter-widgets/controls",
      "model_module_version": "1.4.0",
      "model_name": "VBoxModel",
      "state": {
       "_dom_classes": [
        "widget-interact"
       ],
       "children": [
        "IPY_MODEL_d30685c2b34642b5a8223f74ecff98e1",
        "IPY_MODEL_78b3017aaa3b47faaa5e916cdd5d335c"
       ],
       "layout": "IPY_MODEL_486e8c0f5b9e46dd928ae04455cf50aa"
      }
     },
     "58c06e06e5dc462297bb9ed5ada816ea": {
      "model_module": "@jupyter-widgets/base",
      "model_module_version": "1.1.0",
      "model_name": "LayoutModel",
      "state": {
       "border": "1px solid black"
      }
     },
     "5bf640d1efbd4ac184e803944064883a": {
      "model_module": "@jupyter-widgets/controls",
      "model_module_version": "1.4.0",
      "model_name": "DescriptionStyleModel",
      "state": {
       "description_width": ""
      }
     },
     "5c300a597a5e49f4b758712090503579": {
      "model_module": "@jupyter-widgets/controls",
      "model_module_version": "1.4.0",
      "model_name": "ButtonStyleModel",
      "state": {}
     },
     "5c8fd8561d754c47872b0bfe46bfcbe7": {
      "model_module": "@jupyter-widgets/base",
      "model_module_version": "1.1.0",
      "model_name": "LayoutModel",
      "state": {}
     },
     "5d2632e9956345e69fe1c28a95958715": {
      "model_module": "@jupyter-widgets/base",
      "model_module_version": "1.1.0",
      "model_name": "LayoutModel",
      "state": {}
     },
     "5e15f3c69f9f4823b6c12487ab201a32": {
      "model_module": "@jupyter-widgets/controls",
      "model_module_version": "1.4.0",
      "model_name": "DescriptionStyleModel",
      "state": {
       "description_width": ""
      }
     },
     "5e68eaa1e34942f08ab4e4dada252d6f": {
      "model_module": "@jupyter-widgets/controls",
      "model_module_version": "1.4.0",
      "model_name": "LinkModel",
      "state": {
       "source": [
        "IPY_MODEL_d147df2823e74bf29a7217af0b65dbe0",
        "value"
       ],
       "target": [
        "IPY_MODEL_92fbe60e75e64051a4177a251f486d1a",
        "value"
       ]
      }
     },
     "5ef4b541f05c43c895cae91b24b180a0": {
      "model_module": "@jupyter-widgets/base",
      "model_module_version": "1.1.0",
      "model_name": "LayoutModel",
      "state": {}
     },
     "5ffdcb82df6148998cff180b24c3016d": {
      "model_module": "@jupyter-widgets/base",
      "model_module_version": "1.1.0",
      "model_name": "LayoutModel",
      "state": {}
     },
     "603c40a74b4b432b88b12db4b266ebdd": {
      "model_module": "@jupyter-widgets/controls",
      "model_module_version": "1.4.0",
      "model_name": "SliderStyleModel",
      "state": {
       "description_width": ""
      }
     },
     "60830a8ef08e4f6dae8feffc6be23858": {
      "model_module": "@jupyter-widgets/controls",
      "model_module_version": "1.4.0",
      "model_name": "VBoxModel",
      "state": {
       "_dom_classes": [
        "widget-interact"
       ],
       "children": [
        "IPY_MODEL_bad9a5905d884309963e0213a7fcdeb5",
        "IPY_MODEL_63314e26fb804024887b5c8172e8352f"
       ],
       "layout": "IPY_MODEL_93a1532bcb1d4202841ba7be2bcbd969"
      }
     },
     "630d2bb9477e45e89d58d7f3e8137ff2": {
      "model_module": "@jupyter-widgets/output",
      "model_module_version": "1.0.0",
      "model_name": "OutputModel",
      "state": {
       "layout": "IPY_MODEL_e770b11d0526475dba719e313f8a8b5f"
      }
     },
     "63314e26fb804024887b5c8172e8352f": {
      "model_module": "@jupyter-widgets/output",
      "model_module_version": "1.0.0",
      "model_name": "OutputModel",
      "state": {
       "layout": "IPY_MODEL_71bc6fe65c544310a47f266ee7cd6923",
       "outputs": [
        {
         "data": {
          "image/png": "iVBORw0KGgoAAAANSUhEUgAAAYYAAAD8CAYAAABzTgP2AAAABHNCSVQICAgIfAhkiAAAAAlwSFlzAAALEgAACxIB0t1+/AAAADl0RVh0U29mdHdhcmUAbWF0cGxvdGxpYiB2ZXJzaW9uIDMuMC4zLCBodHRwOi8vbWF0cGxvdGxpYi5vcmcvnQurowAAIABJREFUeJztvXmUW9d95/n9YUdVAagVqJWs4iaJWijJFC1bkWxZdiIri5x03CNPonh82q14IuUknaQTZfp0d7o7cybTOUnmZNptR44dO5m0PUosR5pIsWzLdmxZkiWK2khRFMniUitQK4DCvvzmj/cuCgRrwfKW+4D3OadOFR7eA+4tPNzf/e3EzLCxsbGxsRE4zB6AjY2NjY1c2ILBxsbGxuYKbMFgY2NjY3MFtmCwsbGxsbkCWzDY2NjY2FyBLRhsbGxsbK7AFgw2NjY2NldgCwYbGxsbmyuwBYONjY2NzRW4zB5AMwwODvLk5KTZw7CxsbGxFK+++uoyMw/tdp4lBcPk5CSOHz9u9jBsbGxsLAURXarnPNuUZGNjY2NzBbZgsLGxsbG5Alsw2NjY2NhcgS0YbGxsbGyuwBYMNjY2NjZXoIlgIKIvEVGMiE5u8zwR0Z8T0TkiepOIbq167l4iOqM+96gW47GxsbGxaR6tNIYvA7h3h+c/CuCg+vMQgM8BABE5AXxWff4wgE8Q0WGNxmRjY2Nj0wSaCAZm/gGA1R1OuR/AX7PCSwB6iWgEwDEA55h5mpnzAL6mnisd2UIJf//qLNL5otlDMZR0vohktmD2MGxsNCNfLOOf311CuWy3Nd4Oo3wMYwBmqh7Pqse2O34VRPQQER0nouNLS0u6DXQ7/vjZM/idv3sDf/btdw1/b7N49dIaPvDH38f//IUfoxN6g6dyRbw5u44nTszisR+cR7ZQMntIuvP7T7yJT/3Vy3jl4k77uvbiv3//HD75pZfxh0+fNnso0mJU5jNtcYx3OH71QebHADwGAEePHjV0lXrh/DK++PwF9Ha58eUXLuKX3rsXk4PdRg7BcL728mX8+ydPwu104K25OF65uIZjU/1mD0s3jl9cxQOPvYRi1S4y6HPjgWN7TByVvsyspvHVl2fgdBC+d2YJ753qx7//mcO4YSxk9tB0YyNXxF/96CKCPhe+9KMLGO314dN37jN7WNJhlMYwC2Ci6vE4gPkdjktDIlvA7zz+BqYGu/Hkw3fA7XTg//in9t5p/Nm338WjT7yF2/cN4Lnf/gCCPhf++sWLZg9LV556Yx4uJ+Fzv3QrvvNbd2HvQBeefmvB7GHpyj+8NgcAePY378R//NnDOL+0gd9+/A2TR6Uvf/vSJcQzBfzVp47hp28cwR8+fRr/3xtSLTlSYJRgeArAr6jRSbcDiDPzAoBXABwkoiki8gB4QD1XGv7gqVNYTGTxp//yCPYOdOPXPrgfz56K4sXzK2YPTRdKZcaXfnQBH74ugi9/6hhGQn58/OgEvnlyEbFE1uzh6QIz47nTMfzEgSF89MYRHAgHcN+NI3jh/ArWUnmzh6cLzIwnXpvD7fv6cSAcwKfumMJDd+3DmWgSC/GM2cPThWyhhC/88AJ+4sAg3rO3D3/yL4/g2FQ/fvvxN3BhOWX28KRCq3DVrwJ4EcA1RDRLRP+KiD5DRJ9RT3kGwDSAcwC+AODXAICZiwAeAfAsgNMAHmfmU1qMSQtevbSKJ07M4eG7D+CWPX0AgE/fuQ9jvX784dNvo9SGzqtT83Eks0X87JEROB2Kpe+Xb9+LYpnx1ZdndrnamryzmMTcegYfvi5cOfbTN46gVGZ86+1FE0emHycur+PCcgr/4tbxyrE7DypFN394dtmsYenK48dnsLyRw8N3HwAA+NxO/MnHjyBfKuMH7xrvt5QZraKSPsHMI8zsZuZxZv4iM3+emT+vPs/M/DAz72fmG5n5eNW1zzDzIfW5/12L8WjFC+cUraDaBulzO/G7916DU/MJfOd01Kyh6YbQhN63b6BybGqwG3cdGsL/ePkSCqWyWUPTjefUz/FD124KhutHg5jo9+Ppt9pTMHz9xCz8bic+euNI5di1wwGEA962XCTzxTL+4p+n8Z69fbh936avbKK/C6MhH17uIOd7PdiZzztw4vIaDoZ7EPK7rzh+340j8LoceOVC+91ML06vYP9QN8JB3xXHf+X2vYgmcvj22+0nDL9zOoYj46Er5kxEijnp3DLW0+1lTsoWSvjHN+Zx7w3D6PFuxp8QEe48OITnzy23nTb8zVOLmFvP4JG7D4DoypiX26b68cqF1Y6IvKsXWzBsAzPjtZl13LKn96rn3E4Hrh8N4o3ZdRNGph+FUhmvXFjF+/cPXvXc3deGMdbrx9/+uK5y7pZhKZnDG7PruOe6yFXP/fSNIyiWGd9qM2H43OkYEtkifuHWqyPD7zo0iPV0ASfn4iaMTD9evbiKbo8THzh0dY+a2yb7EUvmMLPanr6VZrAFwzZcWE5hPV3ArapvoZabxntxci6BYhuZVt6aiyOVL+F9+weues7pINx7wzCOX1xrqzl/750YmIF7qvwLghvHQhjv8+OZNotOeuLELIaDvi03AD9xQDnWbuakt+biuH40BIfj6gj52yYV05JtTtrEFgzbcOKyog3cundrwXBkIoRMoYSzsQ0jh6Urwr9w+76rBQMAHB4JIlcs4+JK+0RwfOd0FKMhHw6PBK96jojw0zeO4EfnlhFPt0f2d6nM+NH5Zdx7w3AluKCagR4vbhgLtpUDulRmvL2QwPVjV3/GACrm4nY0DTeLLRi24cTlNQS8LhwY6tny+SPjionpzTYyJ714fgXXDgfQ3+3Z8vnDo8oX69R8wshh6Ua2UMIPzy7jQ9eFr7I7C+69YRiFEuMHZ9tjB31pJYVsoVz5LLfiroNDOHF5rW1KoUwvbSBbKOPGbRL3HA7CbZN9eOWSLRgEtmDYhhOX1nDznt4tVU8AmBzoRsDnwhuz7WGLzRVLOH5pdUszkmD/UA88TgfeXmgPwfDS9AoyhdKW/gXB4dEgnA7CmcWkgSPTDzGP64Z3EAyHhlAsM15ok1ydt1R/yU4Z3Ucn+zG9lMLyRs6oYUmNLRi2YCNXxLvRZCV3YSscDsKR8V68MdMeGsMbM3FkC+UrwlRr8bgcOBjpwdttojG8qQr19+5Q6sPrcmJqsBtnou0hGE4vJuEg4GBka00YAG7d04dujxM/bBMt6eRcAj63A/t2KGMj/AzHbT8DAFswbMmbM+soM3DrFhFJ1dw0HsKZxWRbFFt78fwKiID3Tm0vGADgupEgTi+0xyJ5LraB8T4/ujw7lww7FOnB2TYRDGcWE5gc7IbP7dz2HI/LgffuG8BL0+2xSJ6cj+PwSBAu5/bL3Y1jISUE/eKagSOTF1swbMGJy8rNccvE9hoDoEQmFcvcFjb3F84v4/rRIEJd7h3POzwSxPJGDrGk9ctjnI1t4EB4+52z4FAkgEur6bbYALyzmMS1w4Fdz7t2OIBLKynLJzSWy4y35xO7Fgb0uBy4eaK3o6rM7oQtGLbgxOV1HAj37LpI3jzRHg5oZkW4bReaW41wWlrdnFQqM6aXNnCwTsHArGgYViadL+LyahrXRLb3Lwj2D/WgUGLMrKYNGJl+XFxJYSNXrKti7LGpfpyaTyCV66yeK1thC4YamBmvXV7DLRM7m5EAYDjkQzjgrdiqrcrSRg4buSL2bxOBVc11alin1R3Qs2tp5IplHAzvvns+pNrj37W4Oend6AaYgWtHdp/zflVgnl+ydmhyxfE8urtguG2yH6Uy47XL1t7oaYEtGGq4uJLGWrqwbf5CLUcmrO+Anla//FN19JgI+d0Y6/VbXmMQu//9dWgMewe64XE6LO+AfkcV5vWYkvYNKffC+SVra0mn5hOVoIndEJueszFrf85aYAuGGoRZaKtSGFtxZDyE6eUU4hnrxnyLksNiMdiNw6NBnLa4xiASE+vxMbidDuwb6sbZqLUXyXcWk+jyODHR17XruUGfG+GAF+ctbj47ORfHdcMBuHdwPAsGezzo8bpw0S7BbQuGWqaXUiCqb/cMKA5oAJauLTO9tAGvy4HRkL+u8w+PBDG9nLJ0/+uz0Q2EA96rCiRux6FIwPK5DO8sJnAoEtg2N6eW/UM9ltYYmBkn5+K4vs6OdESEycEuXFixtl9FC2zBUMOllRRGQ354XduH81Vz07hy01lZMFxYTmFqsLvuBePwaBDMsPRCeW5poy7zguBQpAdz6xlsWNQxycw4s5jEdXX4FwT7w904v5SybNXRmdUMEtnithnPWzE50G1rDNCuUc+9RHSGiM4R0aNbPP9vieh19eckEZWIqF997iIRvaU+d/zqVzeWiytpTA7urmoLers86O1y45KFozeml1J1a0gAKnWFrOqAZmacj21sW+5kKw5FlAXVqvkMsWQOa+kCrok0IBiGehDPFLBi0S52J+frdzwLpga7MbuWRr5o7TDdVmlZMBCRE8BnAXwUwGEAnyCiw9XnMPMfM/PNzHwzgN8H8M/MXB0wfLf6/NFWx9Mql1ZS2DtQ/yIJAHv7u3DZoupnoVTG5dV03f4FABjv8yPgdVnWAb2YyGIjV8SBBhbJTcFgTdPKO6p2d+0WxQK3Q0SpWdXP8M5CAg4CDg3XvwGYHOhGmYGZNWt+n7VCC43hGIBzzDzNzHkAXwNw/w7nfwLAVzV4X82JpwtYSxcwOVC/xgAAewa6cdmiGsPMahrFMmNqsP4vDxHhOgs7oMXiXk8Og2Civws+t3UjkxqJSBJYPWT18moao731m4UBYFLVnDvdnKSFYBgDUN0MeFY9dhVE1AXgXgBfrzrMAL5FRK8S0UMajKdpLq0qN0MzGsPcesaSWaKNRiQJrhtWnLFWtD+fayAiSeB0EA6Eeyyby3BmMYnhoA+9XVtXzt2KkaAPfrfTsg7oy6tp7OlvbJMnTKoXbMHQMlt5LLdbLX4WwI9qzEh3MPOtUExRDxPRXVu+CdFDRHSciI4vLelT3OuSag6abFAw7BnoQqnMmF+3XgeoimBowMcAKDvoVL6ENQv2KTgb20BflxsD25QX345DkYBlTUmnF5O4pgFtAVAKRe4b6rawYMg0LBj6utwI+ly2YNDgNWYBTFQ9Hgcwv825D6DGjMTM8+rvGIBvQDFNXQUzP8bMR5n56NDQ1e35tOCS2oCm0ZtJnH/Jgn6G80sp9Hd7GtpJAopgAGDJkgnnYkkcCPds24NhOw5FAlhMZC2Xs1IuK872RgUDYN2Q1XS+iOWNXOU+rRciwtRQT1s1o2oGLQTDKwAOEtEUEXmgLP5P1Z5ERCEAHwDwZNWxbiIKiL8B/CSAkxqMqSkurqQRCXrh99RvkwSAvapPwoqRSReWNxqKSBKIJCmrOemYWS2e1/giKUpjWC0yKZbMIV8qN7zhARTBMLuWsVwBwdk1RXtvVDAAwNRAFy4uW+u+1pqWBQMzFwE8AuBZAKcBPM7Mp4joM0T0mapTfx7At5i5WhRHADxPRG8AeBnA08z8zVbH1CzNRCQBQCTgg8flsOTueXop1bAZCQAm+pVkOPEFtAorqTzW04WG/AsCUVfpXYuZk2ZV4T3eV18CYzX7w91gtp7NXUQJNiMMJwe7MR+3njDUkp0L0dcJMz8D4JmaY5+vefxlAF+uOTYN4IgWY9CCiytp3H1N42Yqh4Owp7+rYoqyChu5ImLJHKYadDwDQMDnRm+X23LCUDieG4lIEoz2+uFyUGWhtQpCeI/XUQqjlkrI6tJGpZaQFRBRgs0IhqlBRRheXk1XwpQ7DTvzWSWVK2IpmWtKYwCUyCSr+RguLAnHc+OLJKCYk2YspjE0UiOpFqeDMNLrs5yW1IrGMDXYDSLgfMxam57Lq2n0eF3o26V0/laI4BOraUlaYgsGlWYjkgR7BrpweTVtqfDN6WVlkWw0VFUw0e/HrMU0htnVNDwuB4aDvqauH+9VQpOtxOxaBoM93h27tm2Hz+3EeJ/fcg7omdU0xvv8DQcYAHYuA2ALhgrCDLS3weQ2wZ7+LqTzJSxvWKd8gCgY2Iy6DSgaw+xaBuWydYTh7HoGY73+uutC1TLW58ecxTSGmbV0U9qCwIqRSTNrjecwCEJ+N/q7PR0dmWQLBpWLqsbQrGAQ11kpA/rCcgrjff6mdpIAMN7fhXypjFgyp/HI9GNuLYPR3ua0BQAY6/UjmsxaqpbO7FqmqegcweRAt6XMpMzcVHJbNZMDXbYpyUbRGAZ7PAj4GrdJAsCefkX9vLxqnZtpenmjoVIYtUyou1ArhazOqxpDs4z1+cEMLMStoTWIxMtWNIaxXj82ckUkstbI31jayCFbKGNPk5s8AJga7LEFg43iY2jW8Qwo9nYi6yS5MTMuLqebClUVWC3JLVcsIZbMYay3+QVDLLBWMSfFklkUStySYBhVBalVMvvF/diKljQ12IVoImfpniOtYAsGlUsrKext4UbyupwYCfosU2U1kS1iI1dsbfesXjuzao0FYzGeBYCWTEnjqlCxSmRSK6GqAvH/sopgEObcejrVbcemA9oa32etsQUDgGyhhPl4tiWNAVB2KFbJfhamkNEWBIPP7UQ44LWMKUns8sda2D0Ph3wgUpzYVqCVUFWB2ADMrWc1GZPeiI1KK3MW0Ymd6oC2BQM2Vc9GGvRsxV41ZNUKiN3fSAu7Z0ARhlZJ+BKLeStaksflQCTgs4wpaXa19TkP9njhdpKlNIbhoK/poApg0wxllXtba2zBgOqIpNY0hr0D3VhKWsMuOa/u/urt87wdE31+y5iS5tczIAJGWpzzeJ8fc+vWWDBm1zIYCjSXwyBwOAgjIb+lBEMrEUkAEPS50O1xVr4nnYYtGFCVw9DizSRuRitoDQvxDFwOwlDA29LrTPR3YSFujV4Uc2sZhANeeFyt3fZjfX7r+BjWW8thEIz2+iwjGGZW0y05ngGlyupIr98y0WdaYwsGKE5Jv9uJ3ibS56upVFm1gAN6fj2LSNAHZ5OJXoKJvi6UGViwwM5qPp5pyaciGOv1YzGeRckCiX2za5mWHM+C0V6/JXbPuWIJi4lspchjK4yEfJWAhU7DFgwAFuJZjIR8TaXPV7NX5DJYQjC0luglGO+3Ti7D3FprOQyC8b4uFMuMaELuRUOLHAbBWK8fi4ksipJrhnNrGTA3n81fzWjIj3lbMHQuC/FMy05YAAh1uRHwuixRS0er3XOlL4Pk5rNymTG/ntVEMIioJtnNSVrkMAhGe/0olVn6LPdWqqrWMtLrw/JGzlJZ7lphCwYoGsNwsPUvD6CEM8qufpbLjMV4tmUnLKCo204HSa8xLKeUZjWthKoKNsM35Z5zpVmNRqYkQP5chhkNBcNoSMlyl10z1IOOFwxFtdbPSKh1jQFQBMOC5DfSciqHQokxpoGW5HI6MNrrkz4ySYSXthqFBVQJBsk1Bi1yGASj6vdDdm14Zi0Dr8vRclAFoHyXAfmFoR5oIhiI6F4iOkNE54jo0S2e/yARxYnodfXnP9R7rd4sb+RRKrMmpiRAOKzkvpGEE1ELjQEQfRnk3j2LOWuhMfg9Tgz2eKQ3JYkcBi1MhiMVjUHuTY/iO2uu3HYtwge3ILkFQA9a7uBGRE4AnwXwEQCzAF4hoqeY+e2aU3/IzD/T5LW6Ma8u4tppDH7EkjkUSmW4nXIqZAsaJbcJJvq68N0zMU1eSy+E2UcLwQAoWoPsu+dZNTy3lRwGQY/XhZDfLf3uOZrIIhJsXVsANjdO85Jv9PRAi5XrGIBzzDzNzHkAXwNwvwHXaoLwB2jlYxgJ+cAMLEnspBORFlo4YgHFVLGUzEndI3duLYOA14Vgk9Vza7FCX4ZW+zDUooSsyj3nBY18ZwDQ7XUh6HNJ7zPUAy0EwxiAmarHs+qxWt5HRG8Q0T8R0fUNXqsbCxoUVqtGdAaTWf2cX8/A73Yi5NdmkYyo2lYsIa8wnFvPaqYtAErI6tx6RuqOfVrlMAjGen1Sa0nlMiOWyCHSZHe+rbBK/obWaCEYtjLm1X5bTgDYy8xHAPzfAP6hgWuVE4keIqLjRHR8aWmp6cHWsrCegc/t0GyRFA4rmSMZRHiuFnZYYFMYLko857l1bcJzBWO9fuSKZSxtyCkMtcxhEMiuMaym88iXypqZhQHFAtCJ2c9aCIZZABNVj8cBzFefwMwJZt5Q/34GgJuIBuu5tuo1HmPmo8x8dGhoSINhKywkFNVTq0VS3JQyawxzGsXzC4QwlFkwtNqgpxbZI5OWN3IolrniNNaC0V4/EtkikpI27BEmHy01huGQX+rvsl5oIRheAXCQiKaIyAPgAQBPVZ9ARMOkrrxEdEx935V6rtWbhfWMpjuMkN8Nn9shdWSS1nMWX8SopF+gjVwR8UxBW41BNOyRdAe96TvT1qwCyLvpEXPW8t4eDfmwmspL7T/Tg5YFAzMXATwC4FkApwE8zsyniOgzRPQZ9bRfBHCSiN4A8OcAHmCFLa9tdUyNsBjPVna8WkCkVKKU9cuTV80fWjnoAKUSZZfHKa3GoEUfhlrGJc9+Fp+FloJB5L3IKgxF/pCW3+cRyYWhXrQcrgpUzEPP1Bz7fNXf/w3Af6v3WqMolRnRZE6TpKdqhoPyZj9HE1kwaxeRBCjCcDjok1YwzGvQh6GWgM+NHq+8ESsx9bOIhLQJ3QTkz36OxrNwOgiDPRrOuWIazmCqhTa4VkPOQHuDWErmUCqzpjsMQDis5FwwtGrQU0tEYmGoRYOerYgEvYgl5ZzzYiILl4Mw2K3dIhkOKOVPZBUMC/EswgFvyxWDq6loDB0WmdTRgmFB4+Q2wXDIh2gii7KEZZk3E/o01pIkrhE1v65N74laZBaGi/EcwgEvHBoukk6HohnKGr4ZTWhrFgaqg0nkFIZ60dGCYdNZpf0iWSwzllPyhTJWOrfpoDHEknIKw2hcm94TtQwHfYhKmrsRTWQR1tC/IJA543shntHUpwIofc37uz0dV367owXDvA5RDEBVXL+EN9NCPIPeLje6PJq4lyoMB70olBir6bymr6sF0WQWYY3KJFQTllgYLiaymi+SgNyd3KKJnOYaA6B8nxcknbNedLRgWIwrlRhb7dxWi9BAZPQzzK9rVzKgmkoug4RzjiZyiAT0WDAkFoY6mFUAxea+GJdPGCazBWzkiroJQxm/y3rS0YJhIZ7VrBJjNTJnPyuJXtp/eSq5DBLOWa9FUtY5p/NFJLNFTRO9BMNBxUwqmzCM6hCqKhgJyZ3xrQcdLxj02GEMdHvgdpKUuwwti4xVI15TtpBVsUjqYUqKSLoBqCS3aRiqKhCVS2Wb84IOCX2CkV4fEtkiUrmi5q8tKx0tGBbVXs9a43CQlBEr6bySAazHrmqwxwMHyZf9LJzDepiSNjUGuRzQQjjrMWfh0JatYKJegSTAZnMnGTd6etGxgqFUZiwmsprH8wtkLL4lFjA9dlUup9I1S7Yvj54mhrAa/irbBiBaSW7rHPOZ+Az00Aw7MWS1YwXD8oZIbtN+hwEoxbdkWzAq2bA6CAYAUmY/VxZJHRYMt9OBwR6PdElui3H9NgBDPcKUJJnGkMiiv9ujSVOiWkY7MMmtYwVDpQ+DDrsqQIlYWYhnparXH1WbB+mxSCqv65NuJynGo0dMPyBnkls0kUXA60K3V9uQZADwuBwY6PYgKp0wzOq24RFaiGzasJ50rmBQowz0MDEor6vU619Py1OiOKbzIilj9nM0kYPf7URAh0USEMJQrt2zktymj/AH1PwNyTYAiwl9/IUA4HUpSW6yaYZ60rmCQUdnlfK68vVliCay8LkdCPr0WyQT2SIyeXlKFItQVa1DkgUyakmLOoXnCiJBr3TCUE+NAVD8SbLNWU86VjBEE1l4XA70aZzcJthsXiOPwyqayCEc0G+RlLGTWyyRqziJ9SAS9GIllUe+WNbtPRolqvMiGQnIJQxzxRJWUnndNAZgM8u9U+howRAJenVbJEcqmcDy7DLEnPVCxuznxYS+i6QQhrIsGuUyI5bM6eJ4FkSCXqVDXEkOYRjTMdpOEAl4pQvR1ZMOFgzK7lkvhnq8cBCk6uS2lMzp5l8A5Mv4ZmbdhaFsuQwrqTyKOpSSryYc9KHMynvJQCW5Tdc5e7GkRjJ2ApoIBiK6l4jOENE5Inp0i+d/iYjeVH9eIKIjVc9dJKK3iOh1IjquxXjqIZbUd8GQMa4/msjqkvQkEDs2WeacyBSRK5b1NatIFtdficLS8XOWbc6LOuaqCCJBH0plxoqEFZP1oGXBQEROAJ8F8FEAhwF8gogO15x2AcAHmPkmAP8FwGM1z9/NzDcz89FWx1MvMZ01BkD5csaSctxIG7kiUvmSrsKw2+tCwOuSZsEQIZX6Cga5SkQsGrB73pyzHPe20Mp11RgCcmZ864UWGsMxAOeYeZqZ8wC+BuD+6hOY+QVmXlMfvgRgXIP3bZp0vohkTp/6OdUoHb7kuJGiOie3CSIShayKceg55361LpYsDnc9ej3XIp3GEM+hy6NfSDKwmcsgiy9Jb7QQDGMAZqoez6rHtuNfAfinqscM4FtE9CoRPbTdRUT0EBEdJ6LjS0tLLQ1YSH29NYahgDzx3psmBn2FoUzZz3pmPQuISNEMJdlJRhNZOEipXaUXA91KXSyZ7u3hoH7RdsCmMJTlc9YbLQTDVp/Glh4aIrobimD4varDdzDzrVBMUQ8T0V1bXcvMjzHzUWY+OjQ01NKAYzpnAAtEKGNBguiNJXXOejqfAbni+jc/Z33nLFNiXzSRxVDAC5dTv7gSl9OBwR554vpjOjViqkbWUiB6ocXdMwtgourxOID52pOI6CYAfwngfmZeEceZeV79HQPwDSimKV0xwkFX/fpLEpiTjNg9A0qp51hSjuiNaCKLkN+tS/2caoaDPmlKRCwmcroLQkDdAEgyZ70jDAGlFEi/hKVA9EILwfAKgINENEVEHgAPAHiq+gQi2gPgCQAPMvO7Vce7iSgg/gbwkwBOajCmHTFKYxBmGxn8DNGEYoft0dEOCyiLZKnMWNkwf85KNqy+nzGg2J9lKTeud3KbQJbsZ2ZWNAadTaSA8n22TUl1wsxFAI8AeBbAaQCPM/MpIvoMEX074Q31AAAgAElEQVRGPe0/ABgA8N9rwlIjAJ4nojcAvAzgaWb+Zqtj2o2YmvUc8uuT9SyQyUkXVRO99LTDAopfBZBEGCaN2T0PB31I5UvYkKCRi169nmuRpV5SMldEtqBvSLIg0kHZz5psH5n5GQDP1Bz7fNXfnwbw6S2umwZwpPa43sSSSpkEvRfJzUgG8xdJvUtDCCJXRG+EdH+/nYglsjgYHtT9fcSitBjP4kC4R/f3245soaRbI6ZaIgFfpRSIx2VenuxmYUhjNIZ3FhO6v48MdGTmczRhjOopojeWJNhZRZNZ3R3PwKZz22wzgygNYYQpaTNixdzP2ajIM2BzA7BksslQmHaGDJmzD8sbeSn8Z3rTkYIhZpCJweV0YECC6A1mRiyRQ8SAL4+I3jDbFrucUhzgRtnbAfOLBxoVhVX9HmabSY2ds7djsp87UjAYpTEAqsPKZLtkMldEplAy5MsjKtaaPWchmIxdJOXYPRthVqnM2WSnu5Fa0lAHZT93nGDI5EtIZouGmFUAORq5GGmHBYSTztw5G5XpDchTCsSoMGxAnlIgsaTSiEnvaDug1n/W3nScYBAfqrEag9mLpHG7Z0Cx98ozZ2M+56Gg+ZphLJmD20m69Rippq9LKQUSNflzFn4kvQNJAHk0QyPoQMFg7CIZDvqwkjK3dr2Ru2dALR5o8k5yMZEFETDYY5CWJEFZjFgyi6EeYxZJh0MpBWK6xpDIGqIhAZv3ktlzNoKOEwxRg80q4YAXzMDyhnm166OV2lAGzTnoxVIyh7KJ0RuxRBYD3V64dSwNUU1YgoKJevfbqCUcND/hK5bMYcig77LH5cBAt8f0z9kIOk4wVJySBu0yKqGMJpoZYskserwudBtghwWUblfFMmMtbZ4wNCpUVaD0BM6C2TxhaGRQBSBHi8+YwXOWJbFPbzpOMESTWXicDvQaYIcFNnfpZtolY4mcYRoSsJnLYObOyuhFMhzwIVcsI5E1L/s5ljT2c1bKYpi3SG72GDFQSwqYH35uBB0nGJYSOQwZkPUskKGOu96d22rZFIZmakn6F1arRnzOSyZ9zrliCevpgsFz9iGRLSKTLxn2ntXEDAxVFUQkCDIwgo4TDFEDSvRWM9jjBZG5GkNU5zamtYRNrpckivgZ+TmLzFuzbO6VsuqGaklCGJoz51hlzsYJw0jQhyVJqgfrSccJBiUD2Lgbye1UHFZm7SSZGVGDSjELNnfP5iwYKxs5lFn/3hPVREw2nxkdkgxUlT8x6d42qkpyNeGAF2WGFNWD9aTjBEM0YazGAEAN6zPnRopnCsgXy4bUkhH43E4EfS7TnHQxE3fPZpnPxMbDyM85bLKWFDMwoU8gg//MCDpKMGQLJSSyRUN3VYAIZTR7V2X0nM0ThkaWSRD0eF3wu52mLRgVYWio89nciLtYMgePy4Gg35hoO0CeGlF601GCwchKjNWY2eDDjEVSvJ/ZwtBIUxIRmZrLEEvk4CBgoNu4z7mvyw23k0ycc9awrGeBDFGGRqCJYCCie4noDBGdI6JHt3ieiOjP1effJKJb671WS8RCZfTuWSnXa47DarOwmvFzNnORBDYrvRqFsgEwRxiKXs9Oh3GLJBFhqMe8kFUjWnrWMiRBxJ0RtCwYiMgJ4LMAPgrgMIBPENHhmtM+CuCg+vMQgM81cK1mGJ0BLDDTYWWGvV28XyyZMyXhK5bMor/bY3gDmbAasWIGRofnCoZMnbOxuSrAZjCJ7WPYnWMAzjHzNDPnAXwNwP0159wP4K9Z4SUAvUQ0Uue1mmGWxmBm8xqjs54FQwEv8sUy4pmCoe8LbHboMxqR/WwGZs05YqKZ1Ki+KrUoGwBbY9iNMQAzVY9n1WP1nFPPtZoRTRhXfbKaSvSGCTeTUS09azEzeiOmmlWMJhxQej+nTOj9vGRwfo7ArMAKUT7fnM/ZnOznyytp/OrfHMdbs3Hd30sLwbCVUbPWfrDdOfVcq7wA0UNEdJyIji8tLTU4RIVujxNHxnsNdVYB5msMZiwYERNDGc0yq2xuAIydc6FUxvJGvtJIxkjCAR/W0gXkisZmPxtdPr8as7KfL6+m8eypKNJ5/TceWgiGWQATVY/HAczXeU491wIAmPkxZj7KzEeHhoaaGuiv33MQf/+/vr+pa1uh0u7SDI3BrEXSpFDGcpnVKqPm7J4B43s/L28Yn+glMCv72YzIM0E4YE7vZyPL52shGF4BcJCIpojIA+ABAE/VnPMUgF9Ro5NuBxBn5oU6r7U8HpcD/SY4rJSsZ+MddIB5YX1r6TyKZTakv3UtZmU/VyLPTNgAmD1nU4ShSb2fjcxVadkjycxFInoEwLMAnAC+xMyniOgz6vOfB/AMgPsAnAOQBvCpna5tdUwyEg54De+Pm8wVkS2UTdk9d3td6PY4DdcYzN1JmmNKMivyDDCvRpSRbUxrCVf1fjby/aOJLAJeF7o8+geSaPIOzPwMlMW/+tjnq/5mAA/Xe207EjYhrj9mQv2caszIZTAroQ8AQn43PC6H4aakir3dTPOZCRsAMwJJgNo5hwx731gya1hToo7KfDaTiAmZwGKBMiNyQ7zvksE7STMqbgpEwpfxwjBnaBvTaga6vXCQ8RqDksPgMzyQBKgynxk9ZwMLgNqCwSDMKNdr5iIJqPWSDBaGSwbaYbfCjPDNpWQWA90ew9qYVuN0EIZM2fTkzNvw9JhjMjSyZYAtGAwiHFSznw10WG0m9Jm0SKrJT0ZmP8cSWQR9LvjcTsPes5pIwGfKTtKMUFVBOGCCmdTgHiPVeFwO9HW5DU1mZGZFYzDILGwLBoOodlgZRTSRg9/tRI/BWc+CSNCLTKGEDQMTvpT2liYukiYU0jMr61lgRsKX0T1GajHaf5bIFJErlg37nG3BYBBid2PkLkP0ADbDDgtsCkMjFw2zwnMF4YAX8UwB2YJxCV+mzznoNbRERLZQQjxTMFUwDBlcMHEzwMDWGNoKM+K9Ywb3eq7FjIgV83fPyv/bqISvUpmxbHAb01qGAj6spPIolsqGvF/MpGKY1RitMRhdANQWDAYhIkaM1hiMCm/bCqOjN5jZtMJqgiGDheFKSmljaq5ZxQtmYHkjb8j7RQ3ePW9FOODFUjKHskHBJEYXALUFg0F4XEq5XiPNKjGTTQxGd7tKZIqGtzGtJWKwL0mG3fOmydCYz9nMrGdBOOBFscxYTRskDG2NoX0xslxvKldEKl8ydSfZo2Y/GyUMpdhJBo0NZTTa9rwVRmd8V2oGmWgmNVobNrp8vi0YDMTI6A0zyyRUEzEwl0GG3XN/lwcuBxm2e16MK3MelkIYGjPnaDILj9OBXhOyngVizkbe20be17ZgMBAjy/WaWUummnDQuOgNM0sxCxwOwqCB2c9Rk7PbAcV/RgZmP8cS5kbbAVVBBgZqDEYGGNiCwUCMzH42shLjTkSCPuO1JBN3zwAQCfmMs7cnsxjsMSfrWbDZ7tK4TY+ZJlKgqnigYXM2tmCfLRgMxMjezzEJ7LCAEAxZQ7KfY4kcuj3mJfQJIga2+DR6wdiOIQMzvs3O2wAAn9uJkN9tyKZHibYzNtPbFgwGYmS7y1gyB4/LgaDf3EUyHPAiVywjkdE/+1mpJWP+IjkcMk5LWoxnMRwyf87hgHHmM7NDkgVGmYYTWbV8vq0xtCdGhm+KUFUz7bBA1ZwN+AKZHZ4riAR9hmU/m1kzqBqjFsl0vohktmi6iRRQ/AxGbACWKpFntsbQlhjZ1UyeXZVxwnAxIcfu2ag5i17PMpiSwgFj/GeVHAYZ5hz0GpLhvpnDYBGNgYj6iejbRHRW/d23xTkTRPQ9IjpNRKeI6DeqnvsDIpojotfVn/taGY/sGOmwksEOC2wmIS3q3L1OaWOaMzVsU2DUnMWiJMMGwKjqwUb2Pd4Npaqs/v4zM6okt6oxPArgOWY+COA59XEtRQC/zczXAbgdwMNEdLjq+T9j5pvVn7bu5OZ2OjDYY0z2s9k1gwSVqrI676zW0gXki2UpFozhivnMmEVyOCTR56zzvR2tCEMZ5uxFocRYSxd0fZ+KxmDgvd2qYLgfwFfUv78C4GO1JzDzAjOfUP9OAjgNYKzF97UsQwH9s58z+ZJqhzV/kfR7nAj6XLqbVTYXSfPnLP7vevf4liVXBQBG1P/7gs5zjkk0583CmHrP2fhou1YFQ4SZFwBFAAAI73QyEU0CuAXAj6sOP0JEbxLRl7YyRbUbkaD+2c8yJHpVM2xAXP9iwnh1ezuCPhf8bqcBwlAeU5IQyIs6zzmWzMErQbQdUJX9rLuWZHy03a6CgYi+Q0Qnt/i5v5E3IqIeAF8H8JvMnFAPfw7AfgA3A1gA8Cc7XP8QER0nouNLS0uNvLVURAL6L5IyLRiAMUluYncuw5yJCJGgV/dFMprIwuUgDHR7dH2fehjs8cLpIEO0pEjQnF7PtWwWTNTZl2RwOQwA2FXsMvOHt3uOiKJENMLMC0Q0AiC2zXluKELhb5n5iarXjlad8wUA/7jDOB4D8BgAHD161LhekRoTCXqxvKFEbzgd+tzcC/EMgE313mzCAR/Ox5Z1fY9FiUwMgFqvX29hqC4YDp3uo0ZwOghDPcYIQxm0QsC4gonRZBY3jffq+h61tGpKegrAJ9W/PwngydoTSBHtXwRwmpn/tOa5kaqHPw/gZIvjkZ6hoE/37GeZ7O2AiHHXt3Z9NKGUhvC45IjAjgR9hiySMviRBEaUAlHqJMkxZ5/biYDPpavGUOn1bLDG0Oq36I8AfISIzgL4iPoYRDRKRCLC6A4ADwL40BZhqf+ViN4iojcB3A3g37Q4HumJGJDLsBDPotvjRMBnXvXJaiJBn+61683uAVyL8KvoGcoo0+4ZAIaDXt1DdKMmdyWsZVjnDUAyV0SmUDI8oa8lDw4zrwC4Z4vj8wDuU/9+HsCWui4zP9jK+1uRKyMZQrq8R1SSRC9Bdb9r0clOaxbjWWlMZ8BmKZB4poDeLn18ANFEFu/fP6DLazfDcNCHF86v6Pb6G2qPERmyngXDIZ+uwjBmkr9QDr27gzAikmFBkvo5gkqNKB3nLJtZRfz/9fqcM/kSEpKEJAsiIR+S2SJSOX3qYsUkijwTjIT01RjEnI0uq24LBoMRtev1tMVG41kMB/26vX6j6F0iIlcsYSWVlyLrWSDmrNeiIVMGsGBE55DVqETlMATDIT9iyRwKpbIury/+l0bf27ZgMBildr1+lShLZUY0mZMiG1Yw1KOvliQ0EZnmPKxzklvUpAVjJyI6z1mGNqa1jIR8YIZuNZNEwuBIyNiNni0YTCAc0K+r2YoaCjts8I20Ex6X0shFrwqrMu6ehwKbfhU9kKk0hGDYMC1JojnrnPG9EM+gt8sNv8epy+tvhy0YTGA45NPxRpJvJwkouzy9hGG0ojHIM2ef24m+Lrdui2SlNIREn7Pe2c/RRA5+t/mNmKqpmM90+j4vxrOmfJdtwWACIyFfJQlNa8SXUqYIHUDfUiBm2WF3Q8+M72giC5/bgaBPnkWyy+NCwOfS1XwWMbnXcy3intPr+zy/nsVor/Havy0YTGC014+1dAGZvPaNXBYlKg1RjZ6lQKKJLDwuB0J+OfI2BKKtqR4sqiXGZVokAWWh1EsbjknSxrSakN8Nn9uhn8ZgUui5LRhMQM/ojcVEFm6nHPVzqhGlQIo6RG8IdVu2RVLRkvQThjKZkQR6FkxcSGQw0ivXnIkIIyE/FnSYc7ZQwmoqjxHblNQZiAiDhXXt1c/FeBbhgE+K+jnVhEUpkJT22c+LCXPssLsxHPTpJgxjajE52dCrFEi5zGoSozxBFYLhoE8X85nQQkZsU1JnIDSGeZ1uJtn8C0BVXL8Oc44lsohIOGchDJc3tBWGm93q5InOEYyElBafWgvD5Y0cCiXGmGQaAyB8htrf15uhqrbG0BFUQtz00BgkXSQ3G7loO2dmVjUG+RZJvcI3E1mlfo6sGoMewnDepHj+ehDmM62LRC4mMpXXNxpbMJiAz+3EQLdHc42BWVW3JVwwxlR1eG5d40UyU0S2IEdLz1r0yviWMVRVoJcwnFc3UbL5GABl01MsM5Y17ndtawwdyEiv9iGriYyyk5Qpnl/Q2+WG3+2sfMG1YrNzm3xzjoT0SXKrzFmSDn3VDOsU1y/umzET7O27IZJJtZ7zwnoWIb8bXR7jQ5JtwWASIyG/5jdSJZ5fQsFARBjt9ekmGGSc80C32tVMp92zGfHtu7HpS9L2c16IZ+F3O6ULSQb063e9YKK/0BYMJjEa0n6RFBqIjBE6gLKQaT3nqKSZ3oDS1Swc8GIxrq2JYW4tAwfJKgw9cDsJixon9s2vK6GqsoUkA/oFViwmMrZg6DSGQ34kNC5RLFvntlpGQ37N/SrRir1dPrMKIMI3tRWGc+tKqKrbKd/X1+EghHVIZpyPZ6U0IwGbwlBzjWE9a1rNs5buLCLqJ6JvE9FZ9XffNuddVDu1vU5Exxu9vh0Z7dU+SmchngWRPH2Paxnt9WMpmUOuqF3G92Iii/5uD7wuY4uM1ctYnx9za1oLhrS0iySgJPZpb283b/e8Gw4HaZ7lni0opeStqjE8CuA5Zj4I4Dn18Xbczcw3M/PRJq9vK0TY3byGUTrRRBYD3V5p+h7XIoShlotGVNJEL8F4rx/z69qGMppVP6deRkJ+TRfJfLGMpY2clKGqAq3rn4lS8lYVDPcD+Ir691cAfMzg6y2LHnH9Zjqr6mEzZFW7Oc+vy5nDIBjr8yNfKmN5Qxube7nMWIhnMNYn7yIpsp+16net9M6WMyJJMKxxMMm8ui6YJQxbFQwRZl4AAPV3eJvzGMC3iOhVInqoievbjkjQByJtNYbFuNy7Z7HL1XLOs2tpTPR3afZ6WjOuLuAzGpmTlG5hLPki6UU6X0JSI/+ZzDkMApH9rJUwFELGLH/hrgGyRPQdAMNbPPXvGnifO5h5nojCAL5NRO8w8w8auB6qQHkIAPbs2dPIpVLicTkw2KOtLXYxkcVtk/2avZ7WiJtcq8ikeKaARLZYWXxlZKxXEVpz6xm8Z2/rLrQ5ieP5BdVROkFf6+GlZu+e62E46EOuWMZ6uoA+DQpYmpncBtShMTDzh5n5hi1+ngQQJaIRAFB/x7Z5jXn1dwzANwAcU5+q63r12seY+SgzHx0aGmpkjtIyGvJVbvpWyRZKWE8XpI1IApSM78Eer2aCQTh1x/vk1RiEyUcrB3RFMEgtDLWds9AwRyXXGADtchkW4hkEfS50m9SUqFVT0lMAPqn+/UkAT9aeQETdRBQQfwP4SQAn672+nRkJ+TW7kRYljuevZqzXp5mPYXYtDQBSaww9XhdCfjfm1tOavJ5YbGV2PgvT3syaNnMW7S3NyACul83uddrc2wsmV5JtVTD8EYCPENFZAB9RH4OIRonoGfWcCIDniegNAC8DeJqZv7nT9Z3CSK8PC+sZTeySQvOQWWMAtE1ym1UXyQmJNQZAEVyzmu2eMwj53VK1t6xlqEeJjJtZ1UYwzK/LWW67mkopfQ03emb6VFq6u5h5BcA9WxyfB3Cf+vc0gCONXN8pjIb8SOVLSGSLLaf6z64qC88eiR2xgCIYvn9mCczcchbr7FoG3R4nervkK5NQzVivHxeWU5q81tx6RmptAVDi+sf7/JhZ1U4YyqwVAsBgjwcO0i4UeyGewQ1jQU1eqxnkDHjvEEY0THKbWUvD6SCpw1UBRTBkVH9Iq8yupTHe1yVlmYRqxvr8mNNKM1zPSO14Fkz0dWloSpJfY3A5HQgHfJoIhlyxhOWNPIaD1jUl2bRAxWGlQfjm5dU0Rnt9cElYJqEa0WhFCz/D7Jr8O0lAcY6n89oIwzmLzHmiXxvzWSpXRDxTkDpUVTDa69NkzpXkNhPnLPcq0uZoaZe8vJqW3owEVOcyaCEY0pZYJMUOv9VFI54pIJkrSh2dI5jo61LDiVsThkKbtoKWtHegG5c18KtU8jZM1P5twWAi4YAXDtLIlNRhgmEzh0H+OQvh1Wpk0mZPAvnnXIlManGhFI2dZDclAcqc5+MZ5IuttTU1O4cBsAWDqbicDkSCvpYzgVO5IpY38lJnAAsGuj3wuBwtV1ndzGGQf8EQY2xVY9gMVZVfY6hkfLfogF6QYPdcL3v7u8C8GUbdLELrMHPTYwsGk9Gi+JZw8sketgkoDXvGev0t+xg2cxjkn3PI70a3x9myYBAhyTIntwnEvdjqIjmvVgyWPQwbAPYOKHO+1KKWdHElhZGQDz63eRWDbcFgMmN9XS0vGDMWCVUVaNHJbdZCGgMRVSKTWmFuLQOP04HBbnmLBgp6u5Rci1ZNSfPrGYQDXil7T9SyRxUMl1dam/OllXRFyJiF/P/tNmdyoAuza+mW7JJC9bSMYAi1nuRmlRwGwVhv630ZZtczGO31weGQOzwXUITheJ+/5eKBC/GMJfwLgJLY1+Vx4lLLgiGFyYFujUbVHLZgMJmpwW6UubXyATOraQS8LssskqO9fsSSuZaEoVVyGATjfV0tawzz63KX265lor9LA41B3s5ttRAR9vR34fJq88mMyWwByxt57LUFQ2czOajcABeWmr+ZLq8qpaetskiO9frBjJaaucxYJJ5fMNbnV8JNWwjfnFvLYNQiu2dA8TPMrjWf2FcolTGzar5ZpREm+rtaClkV2sakbUrqbKbUncHFlVYFg3UWjFEN4vqtksMgaLVJUa5YQiyZs5jGoGS5r6TyTV0/s5pGsczYN9Sj8cj0Y68qGJoVhkIw2BpDh9PX7UHI7266lg4zWyaHQSDG2qzKrey8rZHDIBhvsfy2KLUge52kakRkUrPmJPGdmBo0d5FshL0DXcgWyoglm+vYJzaIZmtJtmCQgMnB7qY1hqVkDrli2VKCYazPD4/LgfNNms+sUG67lkpfhiY1hkrehpUEQ6X8dnNznlbvj/1D1hEMe9SdfrMO6EsrKQwFvKb1YRDYgkECpga6cHG5uRtJ2DOtkNwmcDoI+wa7cT620dT1sxZo0FPLYLdSirpZ85kMSU+Nspnk1ty9Pb2cQl+XG71drXdEM4q96vfwUpMbvYsradP9C4AtGKRgarAH8/EMsoVSw9daLVRVsH+oB+eXWhMMVvKrOByE8RZCVs/FNuB1OSzlY+j2utDf7Wk6yW16acNS/gVA0QydDmraAX15JW26fwGwBYMUTA4qqfTN3EyXV9MgskY2bDX7h5SCY7li48Jwdi1d6YxmJcb6/E0vGGdjG9g/1AOnBXIYqplooS/DheWUpfwLAOB2OjDa62vqc87kS1hMZK2vMRBRPxF9m4jOqr+v6nZORNcQ0etVPwki+k31uT8gormq5+5rZTxWRdz8zTigZ1YzGA764HWZlz7fDPvDPShzc7ZYUW7bKuG5ggPhHpyLbaBcbjxi5VxsAwfC1to9A8B4f3N9GZLZAmLJHPZZyL8g2NPf1dR9LYRJO2gMjwJ4jpkPAnhOfXwFzHyGmW9m5psBvAdAGsA3qk75M/E8Mz9Te30nIHIZLjYlGNKW8i8I9qsmgmb8DDOracskPVVzKBJAplBq2AGdyhUxt57BQQsKhom+LsyvZ1BqUBgKn9s+i2kMALCnv7ny2yIAxeysZ6B1wXA/gK+of38FwMd2Of8eAOeZ+VKL79tWBH1uDHR7mtIYrNKHoRahJU03OOdCqYzppRQORKy3SB6KBAAAZxaTDV0nfDEHLTjniX4/CiXGYoPJjNPLypyt5mMAlFDT1VS+4WRG4bDeY3VTEoAIMy8AgPo7vMv5DwD4as2xR4joTSL60lamKAERPUREx4no+NLSUmujlpDJwe6GBUO2oNgkrSgYur0ujIZ8DWsMF5dTyJfKuHY4oNPI9EMs7O/GGhMM59T/kRVNSSKXodHCctNLKRBZL6gCqI5MamzOF1fS6OtyS+E721UwENF3iOjkFj/3N/JGROQB8HMA/q7q8OcA7AdwM4AFAH+y3fXM/BgzH2Xmo0NDQ428tSWYaiKXwYrROdXsDzcemXRa3W1fO2xeo/RmCfrcGA35cDba2JzPxjbgcpAUtudGEcLwbIPCcHo5hfE+v6mlp5tF7PgbDdO9tJKS5jPeVTAw84eZ+YYtfp4EECWiEQBQf8d2eKmPAjjBzNGq144yc4mZywC+AOBYa9OxLlOD3Ygmckjni3VfIzKHrdCHYSuUkNVUQ+UDziwm4HJQxUdhNQ5GAg2bks7FNjA52G2J0tO1DAd96Oty4+35REPXXVjewNSgNT9joeU02pfh4rIcOQxA66akpwB8Uv37kwCe3OHcT6DGjCSEisrPAzjZ4ngsi3A4NZLodnpBWWAORqxnVgGUkNWNXLGh8gHvLCSxf6gHHpf1FkkAOBTpwbmljYacsediG5Z0PANKxdHDo0G8vVC/YGBmXFhKWdLxDAABnxv93Z6GTEm5Ygnz8Yx1NIZd+CMAHyGiswA+oj4GEY0SUSXCiIi61OefqLn+vxLRW0T0JoC7AfybFsdjWSYHlZ1CI+akU/Nx7B3oksIm2QzNRCa9s5jENRb0LwgORQLIF8t1Z8bmiiVcWklZVjAAwHXDQbyzmESxVF+Z9Vgyh1S+ZMlQVcHega6GogxnVjNg3lwHzKYlwcDMK8x8DzMfVH+vqsfnmfm+qvPSzDzAzPGa6x9k5huZ+SZm/jnhyO5EhMbQiAP6rbk4bhgN6TUk3dmvLnb1+hkS2QLm1jOWFwwA8G6dfoYLyymUefN/ZUUOjwaRL5brvrdFjaR9FjUlAYoP7NR8vG4z6aVK8Tw5hKE19fE2pNvrQjjgrXuXEU8XMLOawQ1j1hUM4YAXPV5X3cX03lVt89eNWFcwVCKTovX5GYSj+mDYunM+PKoECtRrThKhqlMW1hiOjIeQyBZxsU5zkhCGMuQwALZgkIpGQlZPzivK1w1j1ovOERAR9g91160xiIikaywYkSTo8rgw0e+vW+O8ZhQAAA2MSURBVDCci23AQbC0WWX/UA88TkfdDugLSyn43A6MBH06j0w/jkz0AgDenF2v6/zXZ9Yx1utHf7ccBQNtwSAR+4d68G40WVfJhJNzqmCwsCkJUCOT6vQxnFlMIOBT8h+szDWRQEOCYaK/y5JhmwK304GDkZ4GNAal57EVeltvx8FwD3xuB96Yie9+MoDXLq/hlj29Oo+qfmzBIBHv2duHRLaIc3XsoE/OJzDW60efJDuMZtkf7sF8PItUbvcw3XcWkrh2OGC5Gkm1HIwEcGE5hUIdzlgrRyRVc3gkiLfnE3XZ3C8spywbjixwOR24YTSEN+rQGBbjWczHs7h1z7b5vYZjCwaJuG1SuTFevrC667kn5+KWNiMJ9tVZQJCZcWYxacnEtlquiQRQKPGu/qRiqYzp5Q1LO54Fh0eDWEnlsbRLaPJaKo+LKylLZrbXcmSiF6fm47tGY524vAYAuHWvLRhstmBPfxfCAS9eubizYEhmC7iwnLK8GQnYjLbZzbQyt55BMle0dESSQDigz+wy50uraRRKbGnHs+DwiCLQT+1iTvrxhRUwA+/bP2DEsHTlpvEQsoXyrhFor11eg8flqPyPZMAWDBJBRLhtqh/HL67teN4p1Yl3w3gbCIahHvR2ufHC+ZUdzztTKYVh/UVy/1APHLR7yKqokdQOpqTrRGTSLg7oF8+vwO924qZxeeztzXJEncNu5qQTl9dx41hIqqRNeUZiAwC4bW8f5tYzO5ZmbhfHM6C0+bzjwCB+eHZpR/vzO6pgONQGgsHndmJyoLsSfrsdJy6twe0kSxbPqyXoc2O8z7+rA/rF6RUcneyTapFsFpF8ulNkUr5YxltzcdwqkeMZsAWDdNw21Q8AeGUHP8Op+QSGgz4MBbxGDUtXPnBwCNFEbkfTyukFxdke9Fkzy7uWQ5EATu6SAPWd01Hcvm/A9MbwWnF4JIjTOwiG5Y0c3o1u4P37Bw0clX4QEW4aD+H1HSKTTs3HkS+WpXI8A7ZgkI5rh4MIeF07+hneahPHs+DOQ8pC8MN3l7c9553FpKUT22q589AgZtcylXpXtVxcTuH8Ugr3XLtbJXvrcHg0iAvLqW0LRb40rZgT28G/IDgy3ot3o0lk8lu3sH3tsqJNyOR4BmzBIB1OB+HWvX3bCoZ0vojzSxu4vg3MSIKRkB8Hwz34wdmt+2xML23gXGwDt032Gzwy/fip64fhIOCZt7auAvOd00oR4nuuixg5LF05PBIE86ZZsJYXzq+gx+vCDaPts+m5aTyEUpnx9sLWWsOJy2sYDfkQkSyZzxYMEnJsqh/vRjewlspf9dzphQSYgRstXApjK+46NIQfX1jdcmf1jdfm4CDgY7eMmTAyfRjs8eL2fQN45q2FLc1Jz52O4ZpIwJJtW7fjyEQviIDvvbN1df6Xzq/g2FQ/XBYsL74dN6sZ0NuZk167vI5bJNMWAFswSInYGb966eropO++EwORshNpJ+48OIh8sYyXazSlcpnxxIk53HFgULpdVavcd+MIppdTV/lW4ukCXr64inuuax8zEgBEgj586JowvvryDPLFK2P7o4ksppdTeH8bmZEAIBz0YTjo29IBHU1kMbeekc6/ANiCQUpuGg/B43RcZU5KZAv46xcv4d7rhxFus0XyvVMD8Lgc+MG7V5qTfnxhFXPrGfzie8ZNGpl+3HuDak5680pz0vffjaFU5rYyIwkefN9eLG/k8E8nr5zzi2q48u372kswAMCte3vx/NllbNRk978mEtski0gCbMEgJT63EzeNh67aPf/Ni5eQzBbx8N0HTBqZfvg9Thyb7McPa/wMXz8xix6vCz95eNikkenHYI8X750awNM15qTnTscw0O2pmCHaibsODmFyoAt/8+KlK46/cH4ZIb9bqiQvrfjXd+7DSiqPz33/XOUYM+Px47Pwu52V6rMy0ZJgIKKPE9EpIioT0dEdzruXiM4Q0TkierTqeD8RfZuIzqq/5dOpTOLOg0N47fI6nnx9DoDidP7i8xfwwWuGLF1qeyfuOjSId6MbWIgrORzpfBH/9NYC7rtxGH6PdYvI7cR9Nw7j/FKqkuxWKJXx/TMx3H1tGE4LF5HbDoeD8Mu378XxS2uVZLdsoYQfnVvBe6f6LV04bztu2dOHj908ii/88AJm15Qy3P/vKzP47jsx/NufugZel3z3dqsaw0kAvwDgB9udQEROAJ+F0vP5MIBPENFh9elHATzHzAcBPKc+tgHwqx/Yh2NT/fidv3sDL5xbxldfnsFqKo9H2lBbENx1aAgA8J+eehsXllN49tQiUvkS/sWt7WdGEvzUDcMgAp5+awHJbAFPvT6PRLaID7eZf6Gaj79nAj63A3/z0kUsxDP4n/7iRcytZ9oquKCW3733WjgI+D+/eQaXVlL4z//4Nu44MID/5f2TZg9tS1rKnGHm0wB2q3Z5DMA5Zp5Wz/0agPsBvK3+/qB63lcAfB/A77UypnbB53biCw8excf/4gX86t+8Cq/bifdO9eNoG4Vs1nJNJIBf++B+fPH5C/jW24vo7fJgvM/fVmGqtYQDPhyb7Mdnv3cOf/7cWQBAl8eJnzg4ZPLI9CPU5cb9R8bwjdfm8O23o8jkS/iLB9+Dn7q+/cyFgtFePx66cx/+/LvncGo+DqeD8Me/eERaDckIH8MYgJmqx7PqMQCIiHae6u/23SY1QajLjS9/6hi6vS4sb+TwyIfaV1sAlA3G7957LZ7/vQ/hX9+1D9lCCb/yvr3Sfnm04rc+cgi/cMsYfvfea/DYg+/Bd3/7g+hpk2zn7XjwfXuRLZTR43XhHx6+o62FguBXP7Af4YAX00sp/Of7r8dor9/sIW0L7VYfnYi+A2CrT+3fMfOT6jnfB/A7zHx8i+s/DuCnmPnT6uMHARxj5l8nonVm7q06d42Zt/QzENFDAB4CgD179rzn0qVLW53WlkwvbeDHF1bxwG0Tlu9F0Aji3uykOXcSJy6v4UC4p23KnNTDyxdW8cbMOj5955Qp9zURvcrM2/qDBbtuS5j5wy2OZRbARNXjcQDz6t9RIhph5gUiGgGwdeaLMo7HADwGAEePHq2vw3absG+oB/ss3rikGWyB0N7IGL+vN8em+nFsSn7TqBGmpFcAHCSiKSLyAHgAwFPqc08B+KT69ycBPGnAeGxsbGxsdqDVcNWfJ6JZAO8D8DQRPaseHyWiZwCAmYsAHgHwLIDTAB5n5lPqS/wRgI8Q0VkAH1Ef29jY2NiYyK4+Bhk5evQoHz9+lTvDxsbGxmYH6vUx2JnPNjY2NjZXYAsGGxsbG5srsAWDjY2Njc0V2ILBxsbGxuYKbMFgY2NjY3MFloxKIqIlAM2mPg8C2L65sDWw+hzs8ZuP1edg9fED5sxhLzPvWojLkoKhFYjoeD3hWjJj9TnY4zcfq8/B6uMH5J6DbUqysbGxsbkCWzDY2NjY2FxBJwqGx8wegAZYfQ72+M3H6nOw+vgBiefQcT4GGxsbG5ud6USNwcbGxsZmBzpKMBDRvUR0hojOEZHl+ksT0ZeIKEZEJ80eSzMQ0QQRfY+IThPRKSL6DbPH1AhE5COil4noDXX8/8nsMTUDETmJ6DUi+kezx9IMRHSRiN4ioteJyHLVNImol4j+nojeUb8L7zN7TLV0jCmJiJwA3oVS3nsWSp+ITzDz26YOrAGI6C4AGwD+mplvMHs8jaI2Yxph5hNEFADwKoCPWeUzIKVzUDczbxCRG8DzAH6DmV8yeWgNQUS/BeAogCAz/4zZ42kUIroI4CgzWzKPgYi+AuCHzPyXao+aLmZeN3tc1XSSxnAMwDlmnmbmPICvAbjf5DE1BDP/AMCq2eNoFmZeYOYT6t9JKP05xna+Sh5YYUN96FZ/LLWzIqJxAD8N4C/NHksnQkRBAHcB+CIAMHNeNqEAdJZgGAMwU/V4FhZalNoNIpoEcAuAH5s7ksZQzTCvQ2lD+21mttT4AfxfAH4XQNnsgbQAA/gWEb2q9oK3EvsALAH4K9Wc95dE1G32oGrpJMGwVQNhS+322gUi6gHwdQC/ycwJs8fTCMxcYuabofQuP0ZEljHpEdHPAIgx86tmj6VF7mDmWwF8FMDDqonVKrgA3Argc8x8C4AUAOn8nZ0kGGYBTFQ9Hgcwb9JYOhbVNv91AH/LzE+YPZ5mUdX/7wO41+ShNMIdAH5OtdF/DcCHiOj/MXdIjcPM8+rvGIBvQDETW4VZALNVmubfQxEUUtFJguEVAAeJaEp1+DwA4CmTx9RRqM7bLwI4zcx/avZ4GoWIhoioV/3bD+DDAN4xd1T1w8y/z8zjzDwJ5f7/LjP/ssnDaggi6lYDF6CaYH4SgGWi9Jh5EcAMEV2jHroHgHTBFy6zB2AUzFwkokcAPAvACeBLzHzK5GE1BBF9FcAHAQwS0SyA/8jMXzR3VA1xB4AHAbyl2ukB4H9j5mdMHFMjjAD4ihrh5gDwODNbMuTTwkQAfEPZY8AF4H8w8zfNHVLD/DqAv1U3qNMAPmXyeK6iY8JVbWxsbGzqo5NMSTY2NjY2dWALBhsbGxubK7AFg42NjY3NFdiCwcbGxsbmCmzBYGNjY2NzBbZgsLGxsbG5Alsw2NjY2NhcgS0YbGxsbGyu4P8Hcd/hYazw/wQAAAAASUVORK5CYII=\n",
          "text/plain": "<Figure size 432x288 with 1 Axes>"
         },
         "metadata": {
          "needs_background": "light"
         },
         "output_type": "display_data"
        }
       ]
      }
     },
     "63d67d4afca14e058b42a52c2e81449c": {
      "model_module": "@jupyter-widgets/controls",
      "model_module_version": "1.4.0",
      "model_name": "SliderStyleModel",
      "state": {
       "description_width": ""
      }
     },
     "649871176b284c399202be439856a1e7": {
      "model_module": "@jupyter-widgets/controls",
      "model_module_version": "1.4.0",
      "model_name": "LinkModel",
      "state": {
       "source": [
        "IPY_MODEL_94cb1fc4a9e34a7f8fd311ea940e9ac1",
        "value"
       ],
       "target": [
        "IPY_MODEL_342101680a534d958710c443f3870e97",
        "value"
       ]
      }
     },
     "64dca40964d44bc5a9cf620570a5c310": {
      "model_module": "@jupyter-widgets/controls",
      "model_module_version": "1.4.0",
      "model_name": "ButtonModel",
      "state": {
       "description": "Click me",
       "icon": "check",
       "layout": "IPY_MODEL_71704e585efb4b28aec17d0dd637a38b",
       "style": "IPY_MODEL_3c8b3a2630f24452b67881f04a7c6041",
       "tooltip": "Click me"
      }
     },
     "650ddb3d0ed64b9097e4167f6e695306": {
      "model_module": "@jupyter-widgets/controls",
      "model_module_version": "1.4.0",
      "model_name": "VBoxModel",
      "state": {
       "_dom_classes": [
        "widget-interact"
       ],
       "children": [
        "IPY_MODEL_7aaea20d28034a488607845fb42100b8",
        "IPY_MODEL_88f29ae5fdab4dcea4de0eeb2a13b1dc"
       ],
       "layout": "IPY_MODEL_f164427706f34aed884a034ba0e9fb73"
      }
     },
     "65f0ec7905d34e90a98382afdaed9f49": {
      "model_module": "@jupyter-widgets/controls",
      "model_module_version": "1.4.0",
      "model_name": "VBoxModel",
      "state": {
       "_dom_classes": [
        "widget-interact"
       ],
       "children": [
        "IPY_MODEL_e2f8e991a538454a88c698fedfd4e183",
        "IPY_MODEL_89529c5dae824ec1ab6f42e136d5c0cb"
       ],
       "layout": "IPY_MODEL_fff6562604cd4579847a7b7cd4c90b5d"
      }
     },
     "670358fcb9964243a420f1ba89394f35": {
      "model_module": "@jupyter-widgets/controls",
      "model_module_version": "1.4.0",
      "model_name": "SliderStyleModel",
      "state": {
       "description_width": ""
      }
     },
     "67fac6adb7bf46629816ffff389bf4b6": {
      "model_module": "@jupyter-widgets/output",
      "model_module_version": "1.0.0",
      "model_name": "OutputModel",
      "state": {
       "layout": "IPY_MODEL_0bc39d8baa694d36bb1ec0c28cf93fe5",
       "outputs": [
        {
         "data": {
          "text/plain": "True"
         },
         "metadata": {},
         "output_type": "display_data"
        }
       ]
      }
     },
     "6828bd57989b4531b7a47cea86d1d6ee": {
      "model_module": "@jupyter-widgets/base",
      "model_module_version": "1.1.0",
      "model_name": "LayoutModel",
      "state": {}
     },
     "68522edc1be548c39cde10c403286431": {
      "model_module": "@jupyter-widgets/controls",
      "model_module_version": "1.4.0",
      "model_name": "DescriptionStyleModel",
      "state": {
       "description_width": ""
      }
     },
     "6863bcdf6779405e991aefc1d7c1fb17": {
      "model_module": "@jupyter-widgets/base",
      "model_module_version": "1.1.0",
      "model_name": "LayoutModel",
      "state": {}
     },
     "6991793d343a4f9688e9b2bf405397f4": {
      "model_module": "@jupyter-widgets/controls",
      "model_module_version": "1.4.0",
      "model_name": "DescriptionStyleModel",
      "state": {
       "description_width": ""
      }
     },
     "6ae11c5980944db98630987eaa5fd2dd": {
      "model_module": "@jupyter-widgets/controls",
      "model_module_version": "1.4.0",
      "model_name": "PlayModel",
      "state": {
       "description": "Press play",
       "layout": "IPY_MODEL_4502d96d0abc4a62b1fc58c5ad6876b5",
       "style": "IPY_MODEL_8b2ac66d7bfb41bdbcf8d5cf3ab15bd9",
       "value": 50
      }
     },
     "6b66fe6287084a36911bd7564e28cb86": {
      "model_module": "@jupyter-widgets/output",
      "model_module_version": "1.0.0",
      "model_name": "OutputModel",
      "state": {
       "layout": "IPY_MODEL_b1fbeb8bd94c403dbe9ee448f5463ea9",
       "outputs": [
        {
         "data": {
          "text/plain": "True"
         },
         "metadata": {},
         "output_type": "display_data"
        }
       ]
      }
     },
     "6b904557d208497793d2d4f3fd55cf09": {
      "model_module": "@jupyter-widgets/controls",
      "model_module_version": "1.4.0",
      "model_name": "VBoxModel",
      "state": {
       "_dom_classes": [
        "widget-interact"
       ],
       "children": [
        "IPY_MODEL_f4c618670b7b44209db30d9761aa9ad3",
        "IPY_MODEL_d55582b0687c43b4b7200ed94573db3d"
       ],
       "layout": "IPY_MODEL_6f339a26ff1746bfa04b9d9b1e7a9a4a"
      }
     },
     "6bb1e32dcfe046e2b62274b4849b3b32": {
      "model_module": "@jupyter-widgets/base",
      "model_module_version": "1.1.0",
      "model_name": "LayoutModel",
      "state": {}
     },
     "6ea7f5a0d25e47389a52cfec675fa573": {
      "model_module": "@jupyter-widgets/controls",
      "model_module_version": "1.4.0",
      "model_name": "VBoxModel",
      "state": {
       "_dom_classes": [
        "widget-interact"
       ],
       "children": [
        "IPY_MODEL_e004a9b846024a32a1003bcbc6d0d9d2",
        "IPY_MODEL_89045aa0a1cd47e591ae108f2df15e09"
       ],
       "layout": "IPY_MODEL_5ef4b541f05c43c895cae91b24b180a0"
      }
     },
     "6f339a26ff1746bfa04b9d9b1e7a9a4a": {
      "model_module": "@jupyter-widgets/base",
      "model_module_version": "1.1.0",
      "model_name": "LayoutModel",
      "state": {}
     },
     "6f6209d837f14639ac2ea153727f2883": {
      "model_module": "@jupyter-widgets/base",
      "model_module_version": "1.1.0",
      "model_name": "LayoutModel",
      "state": {}
     },
     "6fea4ed3473a4482a36653ef2c5802ba": {
      "model_module": "@jupyter-widgets/base",
      "model_module_version": "1.1.0",
      "model_name": "LayoutModel",
      "state": {}
     },
     "706bd8515ac44785a38e765d6a6c0cb7": {
      "model_module": "@jupyter-widgets/controls",
      "model_module_version": "1.4.0",
      "model_name": "TabModel",
      "state": {
       "_titles": {
        "0": "0",
        "1": "1",
        "2": "2",
        "3": "3",
        "4": "4"
       },
       "children": [
        "IPY_MODEL_e33cb8ef3f544005be5418e6fee49e1b",
        "IPY_MODEL_2d88f851917c4b789e3a519558e80b05",
        "IPY_MODEL_c0741b6ba0f746f8bf40994f91913928",
        "IPY_MODEL_511351e86f0b4a8f838554d430931fda",
        "IPY_MODEL_1618d1f9a11445a3b6ef7fced7541c8b"
       ],
       "layout": "IPY_MODEL_1e60b44234d845afb98d3cde8c534288"
      }
     },
     "70bc1d1ea07b470e8fccffe3eeb8b89e": {
      "model_module": "@jupyter-widgets/base",
      "model_module_version": "1.1.0",
      "model_name": "LayoutModel",
      "state": {}
     },
     "71704e585efb4b28aec17d0dd637a38b": {
      "model_module": "@jupyter-widgets/base",
      "model_module_version": "1.1.0",
      "model_name": "LayoutModel",
      "state": {}
     },
     "71bc6fe65c544310a47f266ee7cd6923": {
      "model_module": "@jupyter-widgets/base",
      "model_module_version": "1.1.0",
      "model_name": "LayoutModel",
      "state": {}
     },
     "72e0b67588d84ea4b3da5b0a263cf21f": {
      "model_module": "@jupyter-widgets/base",
      "model_module_version": "1.1.0",
      "model_name": "LayoutModel",
      "state": {}
     },
     "7300562d86cc43e48702570fe15643d4": {
      "model_module": "@jupyter-widgets/base",
      "model_module_version": "1.1.0",
      "model_name": "LayoutModel",
      "state": {}
     },
     "731a4daee1ce4505a56c71a1d4d0fbd9": {
      "model_module": "@jupyter-widgets/output",
      "model_module_version": "1.0.0",
      "model_name": "OutputModel",
      "state": {
       "layout": "IPY_MODEL_5d2632e9956345e69fe1c28a95958715",
       "outputs": [
        {
         "data": {
          "text/plain": "'Hi there!'"
         },
         "metadata": {},
         "output_type": "display_data"
        }
       ]
      }
     },
     "74032987bd594c3ca807a42c0b3d51e5": {
      "model_module": "@jupyter-widgets/controls",
      "model_module_version": "1.4.0",
      "model_name": "ButtonModel",
      "state": {
       "description": "Click me",
       "icon": "check",
       "layout": "IPY_MODEL_8f5b0a48e9754ad7b684973067a9b35d",
       "style": "IPY_MODEL_7ef8ab2f53d8428f9497229b260d6873",
       "tooltip": "Click me"
      }
     },
     "74082a1a8a3c436ba363b7c7a4e9abf9": {
      "model_module": "@jupyter-widgets/controls",
      "model_module_version": "1.4.0",
      "model_name": "VBoxModel",
      "state": {
       "_dom_classes": [
        "widget-interact"
       ],
       "children": [
        "IPY_MODEL_75ad94f03c1948d4b2355bb3b64f6e74",
        "IPY_MODEL_4959a176e0674817a8cca92286f87a1c"
       ],
       "layout": "IPY_MODEL_561af951825945f38e6f6963532261b1"
      }
     },
     "75ad94f03c1948d4b2355bb3b64f6e74": {
      "model_module": "@jupyter-widgets/controls",
      "model_module_version": "1.4.0",
      "model_name": "CheckboxModel",
      "state": {
       "description": "x",
       "disabled": false,
       "layout": "IPY_MODEL_2dd13a4e68f14edd9b2c16f6c95a2f7a",
       "style": "IPY_MODEL_9c5a3da13fec4418a05aa666158570b5",
       "value": true
      }
     },
     "766e7e1e329c4aa090bc1924658835ed": {
      "model_module": "@jupyter-widgets/controls",
      "model_module_version": "1.4.0",
      "model_name": "HBoxModel",
      "state": {
       "children": [
        "IPY_MODEL_6ae11c5980944db98630987eaa5fd2dd",
        "IPY_MODEL_d2ceaf7f60dd453ca511c8c6c1c583f2"
       ],
       "layout": "IPY_MODEL_be7ffd3d6d8b42b5abc8ff521c845d59"
      }
     },
     "7703f76559c249fab36d889e388da0b6": {
      "model_module": "@jupyter-widgets/controls",
      "model_module_version": "1.4.0",
      "model_name": "VBoxModel",
      "state": {
       "_dom_classes": [
        "widget-interact"
       ],
       "children": [
        "IPY_MODEL_ff80007368394ba5a352912c3b6c0970",
        "IPY_MODEL_a2ad820c58c549f0adf181ee1ef9567d"
       ],
       "layout": "IPY_MODEL_a57ad3cc9000428ab8786a10388a0706"
      }
     },
     "770f35ed30b1455499ecf89c230e7061": {
      "model_module": "@jupyter-widgets/base",
      "model_module_version": "1.1.0",
      "model_name": "LayoutModel",
      "state": {}
     },
     "776665027704484596af0babea3937aa": {
      "model_module": "@jupyter-widgets/controls",
      "model_module_version": "1.4.0",
      "model_name": "SliderStyleModel",
      "state": {
       "description_width": ""
      }
     },
     "7821dd46c49d4200a640638a0a522706": {
      "model_module": "@jupyter-widgets/controls",
      "model_module_version": "1.4.0",
      "model_name": "TabModel",
      "state": {
       "_titles": {
        "0": "0",
        "1": "1",
        "2": "2",
        "3": "3",
        "4": "4"
       },
       "children": [
        "IPY_MODEL_e3254c4bee5d4f719eb7487705cada4a",
        "IPY_MODEL_c29d812bf6964cba85d89a8e863a214c",
        "IPY_MODEL_b1319e3a8c8444dd946515267f3226ed",
        "IPY_MODEL_f669059bb94c451aa222730b580b7ab4",
        "IPY_MODEL_9a2da4fa6df04dbea9f70a63af88e7e0"
       ],
       "layout": "IPY_MODEL_87823b00afe6498aa16e4c6ab714b082"
      }
     },
     "7855612e4ade461faad5cd7ccc64e86f": {
      "model_module": "@jupyter-widgets/base",
      "model_module_version": "1.1.0",
      "model_name": "LayoutModel",
      "state": {}
     },
     "788451d09ab7445a9068f1a7eaca1ad9": {
      "model_module": "@jupyter-widgets/base",
      "model_module_version": "1.1.0",
      "model_name": "LayoutModel",
      "state": {}
     },
     "78b3017aaa3b47faaa5e916cdd5d335c": {
      "model_module": "@jupyter-widgets/output",
      "model_module_version": "1.0.0",
      "model_name": "OutputModel",
      "state": {
       "layout": "IPY_MODEL_fb358f8ac6ca4c95b94534cc26cb9729",
       "outputs": [
        {
         "data": {
          "image/png": "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\n",
          "text/plain": "<Figure size 432x288 with 1 Axes>"
         },
         "metadata": {
          "needs_background": "light"
         },
         "output_type": "display_data"
        }
       ]
      }
     },
     "7a71d99d38b34ce4b4ccf84fd4a0f39f": {
      "model_module": "@jupyter-widgets/controls",
      "model_module_version": "1.4.0",
      "model_name": "SliderStyleModel",
      "state": {
       "description_width": ""
      }
     },
     "7aaea20d28034a488607845fb42100b8": {
      "model_module": "@jupyter-widgets/controls",
      "model_module_version": "1.4.0",
      "model_name": "CheckboxModel",
      "state": {
       "description": "x",
       "disabled": false,
       "layout": "IPY_MODEL_ac955a86b7cc48a8913e050baf7392b4",
       "style": "IPY_MODEL_5bf640d1efbd4ac184e803944064883a",
       "value": true
      }
     },
     "7b4a29d45a9a427a97b2df55e7812227": {
      "model_module": "@jupyter-widgets/base",
      "model_module_version": "1.1.0",
      "model_name": "LayoutModel",
      "state": {}
     },
     "7cfd482278a04c8baf50cd24855232fe": {
      "model_module": "@jupyter-widgets/base",
      "model_module_version": "1.1.0",
      "model_name": "LayoutModel",
      "state": {}
     },
     "7d439041f9884cbfb7b669e757df9114": {
      "model_module": "@jupyter-widgets/base",
      "model_module_version": "1.1.0",
      "model_name": "LayoutModel",
      "state": {}
     },
     "7ddf173b2c0c404d9cf731fa2b6b8670": {
      "model_module": "@jupyter-widgets/base",
      "model_module_version": "1.1.0",
      "model_name": "LayoutModel",
      "state": {}
     },
     "7e2732c620c4407bb2e7f069df2bd18d": {
      "model_module": "@jupyter-widgets/controls",
      "model_module_version": "1.4.0",
      "model_name": "TextModel",
      "state": {
       "description": "P0",
       "layout": "IPY_MODEL_16e95b061dcc4f148629a92f8f967b85",
       "style": "IPY_MODEL_4617e6f3c8654b72be5aefd1a2f22584"
      }
     },
     "7ef8ab2f53d8428f9497229b260d6873": {
      "model_module": "@jupyter-widgets/controls",
      "model_module_version": "1.4.0",
      "model_name": "ButtonStyleModel",
      "state": {}
     },
     "804c5288742c4abbbd039e39e3786d3e": {
      "model_module": "@jupyter-widgets/base",
      "model_module_version": "1.1.0",
      "model_name": "LayoutModel",
      "state": {}
     },
     "81e21ea6fb25423f85e798c83d7cbac3": {
      "model_module": "@jupyter-widgets/controls",
      "model_module_version": "1.4.0",
      "model_name": "DescriptionStyleModel",
      "state": {
       "description_width": ""
      }
     },
     "82e08421bd9c424880477ca0be85b996": {
      "model_module": "@jupyter-widgets/base",
      "model_module_version": "1.1.0",
      "model_name": "LayoutModel",
      "state": {}
     },
     "82e93a18451a4a38a33ef5881951c52f": {
      "model_module": "@jupyter-widgets/controls",
      "model_module_version": "1.4.0",
      "model_name": "DescriptionStyleModel",
      "state": {
       "description_width": ""
      }
     },
     "8401d0b83d1542d3992953d2bfa2ff0c": {
      "model_module": "@jupyter-widgets/controls",
      "model_module_version": "1.4.0",
      "model_name": "CheckboxModel",
      "state": {
       "description": "x",
       "disabled": false,
       "layout": "IPY_MODEL_e17d832c8b7e4fcc9f05307272fc39e9",
       "style": "IPY_MODEL_2f90ddb746704accb487bbe8edca5588",
       "value": true
      }
     },
     "8648566376c642ce98b2aef5c88aa1f3": {
      "model_module": "@jupyter-widgets/output",
      "model_module_version": "1.0.0",
      "model_name": "OutputModel",
      "state": {
       "layout": "IPY_MODEL_cb78e40f83fe48d389935f3f36590bad",
       "outputs": [
        {
         "data": {
          "text/plain": "10"
         },
         "metadata": {},
         "output_type": "display_data"
        }
       ]
      }
     },
     "8683211b6b654689bd891a9762e92f91": {
      "model_module": "@jupyter-widgets/base",
      "model_module_version": "1.1.0",
      "model_name": "LayoutModel",
      "state": {}
     },
     "87823b00afe6498aa16e4c6ab714b082": {
      "model_module": "@jupyter-widgets/base",
      "model_module_version": "1.1.0",
      "model_name": "LayoutModel",
      "state": {}
     },
     "88c93dcdf3694104a6bbc50bbdb4c505": {
      "model_module": "@jupyter-widgets/base",
      "model_module_version": "1.1.0",
      "model_name": "LayoutModel",
      "state": {}
     },
     "88f29ae5fdab4dcea4de0eeb2a13b1dc": {
      "model_module": "@jupyter-widgets/output",
      "model_module_version": "1.0.0",
      "model_name": "OutputModel",
      "state": {
       "layout": "IPY_MODEL_b63b67efb7d24c9cbcf162c2a9b0035a",
       "outputs": [
        {
         "data": {
          "text/plain": "True"
         },
         "metadata": {},
         "output_type": "display_data"
        }
       ]
      }
     },
     "89045aa0a1cd47e591ae108f2df15e09": {
      "model_module": "@jupyter-widgets/output",
      "model_module_version": "1.0.0",
      "model_name": "OutputModel",
      "state": {
       "layout": "IPY_MODEL_6fea4ed3473a4482a36653ef2c5802ba",
       "outputs": [
        {
         "data": {
          "image/png": "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\n",
          "text/plain": "<Figure size 432x288 with 1 Axes>"
         },
         "metadata": {
          "needs_background": "light"
         },
         "output_type": "display_data"
        }
       ]
      }
     },
     "89529c5dae824ec1ab6f42e136d5c0cb": {
      "model_module": "@jupyter-widgets/output",
      "model_module_version": "1.0.0",
      "model_name": "OutputModel",
      "state": {
       "layout": "IPY_MODEL_9e36572bdd0c4e9a84ce430605d96cbd",
       "outputs": [
        {
         "data": {
          "text/plain": "'Hi there!'"
         },
         "metadata": {},
         "output_type": "display_data"
        }
       ]
      }
     },
     "8b2ac66d7bfb41bdbcf8d5cf3ab15bd9": {
      "model_module": "@jupyter-widgets/controls",
      "model_module_version": "1.4.0",
      "model_name": "DescriptionStyleModel",
      "state": {
       "description_width": ""
      }
     },
     "8f5b0a48e9754ad7b684973067a9b35d": {
      "model_module": "@jupyter-widgets/base",
      "model_module_version": "1.1.0",
      "model_name": "LayoutModel",
      "state": {}
     },
     "9065cb0b994643e88be1389cfc50d1cd": {
      "model_module": "@jupyter-widgets/controls",
      "model_module_version": "1.4.0",
      "model_name": "DescriptionStyleModel",
      "state": {
       "description_width": ""
      }
     },
     "91c69678812d4e93bebdb6db6ad14060": {
      "model_module": "@jupyter-widgets/controls",
      "model_module_version": "1.4.0",
      "model_name": "TextModel",
      "state": {
       "description": "P3",
       "layout": "IPY_MODEL_88c93dcdf3694104a6bbc50bbdb4c505",
       "style": "IPY_MODEL_97fba80bf0d74828bd92c46fbc5a743f"
      }
     },
     "92abf81afdc44021922cdf2211e5e46f": {
      "model_module": "@jupyter-widgets/base",
      "model_module_version": "1.1.0",
      "model_name": "LayoutModel",
      "state": {
       "border": "1px solid black"
      }
     },
     "92fbe60e75e64051a4177a251f486d1a": {
      "model_module": "@jupyter-widgets/controls",
      "model_module_version": "1.4.0",
      "model_name": "IntSliderModel",
      "state": {
       "layout": "IPY_MODEL_0b3610a348dd46b096ea30619bb4cfd2",
       "style": "IPY_MODEL_4cffa73ffd004883878e29331873b01a",
       "value": 50
      }
     },
     "93a1532bcb1d4202841ba7be2bcbd969": {
      "model_module": "@jupyter-widgets/base",
      "model_module_version": "1.1.0",
      "model_name": "LayoutModel",
      "state": {}
     },
     "93c3b6c841a94d1b9eb7d2de4363a892": {
      "model_module": "@jupyter-widgets/base",
      "model_module_version": "1.1.0",
      "model_name": "LayoutModel",
      "state": {}
     },
     "94cb1fc4a9e34a7f8fd311ea940e9ac1": {
      "model_module": "@jupyter-widgets/controls",
      "model_module_version": "1.4.0",
      "model_name": "PlayModel",
      "state": {
       "description": "Press play",
       "layout": "IPY_MODEL_56bfd7b439ce4914ace6fa87a6fb14e6",
       "style": "IPY_MODEL_47124ccfff6541db9bd7599a7f94c061",
       "value": 50
      }
     },
     "9570cf4d519548acb307ee30017321c5": {
      "model_module": "@jupyter-widgets/controls",
      "model_module_version": "1.4.0",
      "model_name": "DescriptionStyleModel",
      "state": {
       "description_width": ""
      }
     },
     "95b78a82de69421da403c2b88f6bd5c9": {
      "model_module": "@jupyter-widgets/base",
      "model_module_version": "1.1.0",
      "model_name": "LayoutModel",
      "state": {}
     },
     "95bdbcc4da3f4865981ac750e517a6f1": {
      "model_module": "@jupyter-widgets/base",
      "model_module_version": "1.1.0",
      "model_name": "LayoutModel",
      "state": {}
     },
     "96bf92e7afaf449096aee713ff9172cc": {
      "model_module": "@jupyter-widgets/controls",
      "model_module_version": "1.4.0",
      "model_name": "TextModel",
      "state": {
       "description": "P2",
       "layout": "IPY_MODEL_122a7481f71845e4a692d8a4d4231911",
       "style": "IPY_MODEL_6991793d343a4f9688e9b2bf405397f4"
      }
     },
     "97fba80bf0d74828bd92c46fbc5a743f": {
      "model_module": "@jupyter-widgets/controls",
      "model_module_version": "1.4.0",
      "model_name": "DescriptionStyleModel",
      "state": {
       "description_width": ""
      }
     },
     "989757277bac49df892b7740f22c8fa4": {
      "model_module": "@jupyter-widgets/controls",
      "model_module_version": "1.4.0",
      "model_name": "VBoxModel",
      "state": {
       "_dom_classes": [
        "widget-interact"
       ],
       "children": [
        "IPY_MODEL_a1b3d2c19e71473b9838978605d1b70e",
        "IPY_MODEL_c3fe41d9909e461aa65c34f58541087f"
       ],
       "layout": "IPY_MODEL_4ff1e21827074b55bb52cb4a07b90d82"
      }
     },
     "98fe57440f1d45f2ae2b4f1a0e6059c9": {
      "model_module": "@jupyter-widgets/controls",
      "model_module_version": "1.4.0",
      "model_name": "DescriptionStyleModel",
      "state": {
       "description_width": ""
      }
     },
     "99817929c5f44a4bb5df57be0a08b57b": {
      "model_module": "@jupyter-widgets/controls",
      "model_module_version": "1.4.0",
      "model_name": "TabModel",
      "state": {
       "_titles": {
        "0": "0",
        "1": "1",
        "2": "2",
        "3": "3",
        "4": "4"
       },
       "children": [
        "IPY_MODEL_a5432577ea9c4acbb692fb4344a3d841",
        "IPY_MODEL_ec63453a682047269ffec82a20ed9570",
        "IPY_MODEL_07244368be884d8d90d243d92d70ffb7",
        "IPY_MODEL_521f448b08aa4dd694cbdf0a3b81f06d",
        "IPY_MODEL_d5c5ba2521ef43388a3ba411b5f52aa0"
       ],
       "layout": "IPY_MODEL_a25dfe247f484ea58a558271f69e0dbe"
      }
     },
     "9a2da4fa6df04dbea9f70a63af88e7e0": {
      "model_module": "@jupyter-widgets/controls",
      "model_module_version": "1.4.0",
      "model_name": "TextModel",
      "state": {
       "description": "P4",
       "layout": "IPY_MODEL_e024716fd0024bf784cb184433992ff2",
       "style": "IPY_MODEL_4459985fcccf4fb081e8a55159c59c0c"
      }
     },
     "9ac4d2210a1c49e89a13420883223239": {
      "model_module": "@jupyter-widgets/base",
      "model_module_version": "1.1.0",
      "model_name": "LayoutModel",
      "state": {}
     },
     "9bc99a63b3d541a8b425be920f46c044": {
      "model_module": "@jupyter-widgets/controls",
      "model_module_version": "1.4.0",
      "model_name": "VBoxModel",
      "state": {
       "_dom_classes": [
        "widget-interact"
       ],
       "children": [
        "IPY_MODEL_8401d0b83d1542d3992953d2bfa2ff0c",
        "IPY_MODEL_6b66fe6287084a36911bd7564e28cb86"
       ],
       "layout": "IPY_MODEL_50232cdedc834238bb30bbe2cb12222c"
      }
     },
     "9c42309a59f3453aa6e40230ab234612": {
      "model_module": "@jupyter-widgets/base",
      "model_module_version": "1.1.0",
      "model_name": "LayoutModel",
      "state": {}
     },
     "9c5a3da13fec4418a05aa666158570b5": {
      "model_module": "@jupyter-widgets/controls",
      "model_module_version": "1.4.0",
      "model_name": "DescriptionStyleModel",
      "state": {
       "description_width": ""
      }
     },
     "9d2530835bfd46f78154dbb26ca64d29": {
      "model_module": "@jupyter-widgets/controls",
      "model_module_version": "1.4.0",
      "model_name": "IntSliderModel",
      "state": {
       "description": "x",
       "layout": "IPY_MODEL_e5fe9082368e41c08bb4680fae6a165b",
       "max": 30,
       "min": -10,
       "style": "IPY_MODEL_d268499c2ac341aa8921e626d6c38a79",
       "value": 10
      }
     },
     "9e1db37a03c94caebc77fe28f0a5a59e": {
      "model_module": "@jupyter-widgets/base",
      "model_module_version": "1.1.0",
      "model_name": "LayoutModel",
      "state": {}
     },
     "9e36572bdd0c4e9a84ce430605d96cbd": {
      "model_module": "@jupyter-widgets/base",
      "model_module_version": "1.1.0",
      "model_name": "LayoutModel",
      "state": {}
     },
     "9facbed9b61b474bad924b9e94b03793": {
      "model_module": "@jupyter-widgets/controls",
      "model_module_version": "1.4.0",
      "model_name": "DescriptionStyleModel",
      "state": {
       "description_width": ""
      }
     },
     "a0ab081af85e45f59a02a65caf0830b1": {
      "model_module": "@jupyter-widgets/output",
      "model_module_version": "1.0.0",
      "model_name": "OutputModel",
      "state": {
       "layout": "IPY_MODEL_cccb4748c61345e7a330bcab42305638",
       "outputs": [
        {
         "data": {
          "image/png": "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\n",
          "text/plain": "<Figure size 432x288 with 1 Axes>"
         },
         "metadata": {
          "needs_background": "light"
         },
         "output_type": "display_data"
        }
       ]
      }
     },
     "a1b3d2c19e71473b9838978605d1b70e": {
      "model_module": "@jupyter-widgets/controls",
      "model_module_version": "1.4.0",
      "model_name": "IntSliderModel",
      "state": {
       "description": "x",
       "layout": "IPY_MODEL_72e0b67588d84ea4b3da5b0a263cf21f",
       "max": 30,
       "min": -10,
       "style": "IPY_MODEL_603c40a74b4b432b88b12db4b266ebdd",
       "value": 10
      }
     },
     "a24ee884c2f846028ff920fefdc29ef2": {
      "model_module": "@jupyter-widgets/base",
      "model_module_version": "1.1.0",
      "model_name": "LayoutModel",
      "state": {}
     },
     "a25dfe247f484ea58a558271f69e0dbe": {
      "model_module": "@jupyter-widgets/base",
      "model_module_version": "1.1.0",
      "model_name": "LayoutModel",
      "state": {}
     },
     "a2ad820c58c549f0adf181ee1ef9567d": {
      "model_module": "@jupyter-widgets/output",
      "model_module_version": "1.0.0",
      "model_name": "OutputModel",
      "state": {
       "layout": "IPY_MODEL_ba434de2d0c64bd4abd5c5d5f7e04ad1",
       "outputs": [
        {
         "data": {
          "text/plain": "'Hi there!'"
         },
         "metadata": {},
         "output_type": "display_data"
        }
       ]
      }
     },
     "a2e722cc9e154646b6b150c57a0a4271": {
      "model_module": "@jupyter-widgets/base",
      "model_module_version": "1.1.0",
      "model_name": "LayoutModel",
      "state": {}
     },
     "a5432577ea9c4acbb692fb4344a3d841": {
      "model_module": "@jupyter-widgets/controls",
      "model_module_version": "1.4.0",
      "model_name": "TextModel",
      "state": {
       "description": "P0",
       "layout": "IPY_MODEL_5c8fd8561d754c47872b0bfe46bfcbe7",
       "style": "IPY_MODEL_e8fcd4768b8d4751b8b78303b79cd685"
      }
     },
     "a57ad3cc9000428ab8786a10388a0706": {
      "model_module": "@jupyter-widgets/base",
      "model_module_version": "1.1.0",
      "model_name": "LayoutModel",
      "state": {}
     },
     "a5a8aa73d52b435aafe0ded5b0927daa": {
      "model_module": "@jupyter-widgets/controls",
      "model_module_version": "1.4.0",
      "model_name": "TextModel",
      "state": {
       "description": "P0",
       "layout": "IPY_MODEL_7300562d86cc43e48702570fe15643d4",
       "style": "IPY_MODEL_9065cb0b994643e88be1389cfc50d1cd"
      }
     },
     "a64135da98734f908378f462ac21d628": {
      "model_module": "@jupyter-widgets/controls",
      "model_module_version": "1.4.0",
      "model_name": "VBoxModel",
      "state": {
       "_dom_classes": [
        "widget-interact"
       ],
       "children": [
        "IPY_MODEL_c459a9241ba941dea7ba8f1c91177f6a",
        "IPY_MODEL_e6cbc379377a437194b93dcef20f27b2"
       ],
       "layout": "IPY_MODEL_41fd01f7a9864e48a0189cda6ce3b278"
      }
     },
     "a71e2113e4804781bef6eb45045cfd58": {
      "model_module": "@jupyter-widgets/base",
      "model_module_version": "1.1.0",
      "model_name": "LayoutModel",
      "state": {}
     },
     "a81c9e89975148cfa6db13376e9957e6": {
      "model_module": "@jupyter-widgets/base",
      "model_module_version": "1.1.0",
      "model_name": "LayoutModel",
      "state": {}
     },
     "a8ccf719d0bd46f6b686cc9c8d3657e8": {
      "model_module": "@jupyter-widgets/controls",
      "model_module_version": "1.4.0",
      "model_name": "IntSliderModel",
      "state": {
       "description": "x",
       "layout": "IPY_MODEL_448394e1993841fea470bae03759fac3",
       "max": 30,
       "min": -10,
       "style": "IPY_MODEL_cf9e1272164d4973bcbb5835585872a9",
       "value": 10
      }
     },
     "a97ec7a4b33249d2aed45a520f97ee75": {
      "model_module": "@jupyter-widgets/controls",
      "model_module_version": "1.4.0",
      "model_name": "DescriptionStyleModel",
      "state": {
       "description_width": ""
      }
     },
     "ab177c0665194c03a1d7e6c947e971b4": {
      "model_module": "@jupyter-widgets/base",
      "model_module_version": "1.1.0",
      "model_name": "LayoutModel",
      "state": {
       "border": "1px solid black"
      }
     },
     "ac852153f489430b89b5d1298053b887": {
      "model_module": "@jupyter-widgets/base",
      "model_module_version": "1.1.0",
      "model_name": "LayoutModel",
      "state": {}
     },
     "ac955a86b7cc48a8913e050baf7392b4": {
      "model_module": "@jupyter-widgets/base",
      "model_module_version": "1.1.0",
      "model_name": "LayoutModel",
      "state": {}
     },
     "aeaa62df5db04cce981cea73e167e89d": {
      "model_module": "@jupyter-widgets/base",
      "model_module_version": "1.1.0",
      "model_name": "LayoutModel",
      "state": {}
     },
     "aefb207b87534aa280305c3afe5d3a4c": {
      "model_module": "@jupyter-widgets/base",
      "model_module_version": "1.1.0",
      "model_name": "LayoutModel",
      "state": {}
     },
     "b1319e3a8c8444dd946515267f3226ed": {
      "model_module": "@jupyter-widgets/controls",
      "model_module_version": "1.4.0",
      "model_name": "TextModel",
      "state": {
       "description": "P2",
       "layout": "IPY_MODEL_6f6209d837f14639ac2ea153727f2883",
       "style": "IPY_MODEL_68522edc1be548c39cde10c403286431"
      }
     },
     "b131d363c35f4105a00b58f9e703dde7": {
      "model_module": "@jupyter-widgets/controls",
      "model_module_version": "1.4.0",
      "model_name": "DescriptionStyleModel",
      "state": {
       "description_width": ""
      }
     },
     "b1fbeb8bd94c403dbe9ee448f5463ea9": {
      "model_module": "@jupyter-widgets/base",
      "model_module_version": "1.1.0",
      "model_name": "LayoutModel",
      "state": {}
     },
     "b20c593edd79427da961b50659846f15": {
      "model_module": "@jupyter-widgets/output",
      "model_module_version": "1.0.0",
      "model_name": "OutputModel",
      "state": {
       "layout": "IPY_MODEL_92abf81afdc44021922cdf2211e5e46f"
      }
     },
     "b2f683f8f5434a0d91c1e3fa55aa7847": {
      "model_module": "@jupyter-widgets/controls",
      "model_module_version": "1.4.0",
      "model_name": "DescriptionStyleModel",
      "state": {
       "description_width": ""
      }
     },
     "b39c016d163b404d819be41f1ebeef9c": {
      "model_module": "@jupyter-widgets/controls",
      "model_module_version": "1.4.0",
      "model_name": "VBoxModel",
      "state": {
       "_dom_classes": [
        "widget-interact"
       ],
       "children": [
        "IPY_MODEL_a8ccf719d0bd46f6b686cc9c8d3657e8",
        "IPY_MODEL_c220387549c249c18549618fc6a04d37"
       ],
       "layout": "IPY_MODEL_fe79b70a60234f9cb90bf8f8f3f5585d"
      }
     },
     "b6242c95d5f149b4ac9807504ed02455": {
      "model_module": "@jupyter-widgets/base",
      "model_module_version": "1.1.0",
      "model_name": "LayoutModel",
      "state": {}
     },
     "b63b67efb7d24c9cbcf162c2a9b0035a": {
      "model_module": "@jupyter-widgets/base",
      "model_module_version": "1.1.0",
      "model_name": "LayoutModel",
      "state": {}
     },
     "ba434de2d0c64bd4abd5c5d5f7e04ad1": {
      "model_module": "@jupyter-widgets/base",
      "model_module_version": "1.1.0",
      "model_name": "LayoutModel",
      "state": {}
     },
     "baad7e99bf3f483ba7d24eb30163a91c": {
      "model_module": "@jupyter-widgets/base",
      "model_module_version": "1.1.0",
      "model_name": "LayoutModel",
      "state": {}
     },
     "bad9a5905d884309963e0213a7fcdeb5": {
      "model_module": "@jupyter-widgets/controls",
      "model_module_version": "1.4.0",
      "model_name": "FloatSliderModel",
      "state": {
       "description": "freq",
       "layout": "IPY_MODEL_6863bcdf6779405e991aefc1d7c1fb17",
       "max": 5,
       "min": 1,
       "step": 0.5,
       "style": "IPY_MODEL_3c1919c8d4e5453986191230fbdb48a0",
       "value": 5
      }
     },
     "be7ffd3d6d8b42b5abc8ff521c845d59": {
      "model_module": "@jupyter-widgets/base",
      "model_module_version": "1.1.0",
      "model_name": "LayoutModel",
      "state": {}
     },
     "c0741b6ba0f746f8bf40994f91913928": {
      "model_module": "@jupyter-widgets/controls",
      "model_module_version": "1.4.0",
      "model_name": "TextModel",
      "state": {
       "description": "P2",
       "layout": "IPY_MODEL_42d800ad5fbd4a339ba9fad4b42f008c",
       "style": "IPY_MODEL_b2f683f8f5434a0d91c1e3fa55aa7847"
      }
     },
     "c1462cd8d6494acd978323bfd486b551": {
      "model_module": "@jupyter-widgets/controls",
      "model_module_version": "1.4.0",
      "model_name": "DescriptionStyleModel",
      "state": {
       "description_width": ""
      }
     },
     "c220387549c249c18549618fc6a04d37": {
      "model_module": "@jupyter-widgets/output",
      "model_module_version": "1.0.0",
      "model_name": "OutputModel",
      "state": {
       "layout": "IPY_MODEL_ed11723c9cd94ee8802a35fd069cfb98",
       "outputs": [
        {
         "data": {
          "text/plain": "10"
         },
         "metadata": {},
         "output_type": "display_data"
        }
       ]
      }
     },
     "c29d812bf6964cba85d89a8e863a214c": {
      "model_module": "@jupyter-widgets/controls",
      "model_module_version": "1.4.0",
      "model_name": "TextModel",
      "state": {
       "description": "P1",
       "layout": "IPY_MODEL_9e1db37a03c94caebc77fe28f0a5a59e",
       "style": "IPY_MODEL_d3bca240ad174d7ea4a1bd5a7057a4eb"
      }
     },
     "c3fe41d9909e461aa65c34f58541087f": {
      "model_module": "@jupyter-widgets/output",
      "model_module_version": "1.0.0",
      "model_name": "OutputModel",
      "state": {
       "layout": "IPY_MODEL_5497272ae0cd4fb493197e1e712134f3",
       "outputs": [
        {
         "data": {
          "text/plain": "10"
         },
         "metadata": {},
         "output_type": "display_data"
        }
       ]
      }
     },
     "c459a9241ba941dea7ba8f1c91177f6a": {
      "model_module": "@jupyter-widgets/controls",
      "model_module_version": "1.4.0",
      "model_name": "TextModel",
      "state": {
       "description": "x",
       "layout": "IPY_MODEL_a2e722cc9e154646b6b150c57a0a4271",
       "style": "IPY_MODEL_df3ed5055d1747c390d191840680fb56",
       "value": "Hi there!"
      }
     },
     "c711f7f6be294ad8870830219164bf2c": {
      "model_module": "@jupyter-widgets/controls",
      "model_module_version": "1.4.0",
      "model_name": "SliderStyleModel",
      "state": {
       "description_width": ""
      }
     },
     "c73a284a391a4d58bfbaf3255debf4b0": {
      "model_module": "@jupyter-widgets/controls",
      "model_module_version": "1.4.0",
      "model_name": "DescriptionStyleModel",
      "state": {
       "description_width": ""
      }
     },
     "c7d6f99023dc449e8d804b100d81d707": {
      "model_module": "@jupyter-widgets/controls",
      "model_module_version": "1.4.0",
      "model_name": "HBoxModel",
      "state": {
       "children": [
        "IPY_MODEL_de3dc3fdb6434826a15222a401a482f0",
        "IPY_MODEL_cca7a5b1f87f46f18ded5b09bb3303b7"
       ],
       "layout": "IPY_MODEL_804c5288742c4abbbd039e39e3786d3e"
      }
     },
     "c7ec574b484547139b977f88a64bd1e2": {
      "model_module": "@jupyter-widgets/controls",
      "model_module_version": "1.4.0",
      "model_name": "IntSliderModel",
      "state": {
       "description": "x",
       "layout": "IPY_MODEL_70bc1d1ea07b470e8fccffe3eeb8b89e",
       "max": 30,
       "min": -10,
       "style": "IPY_MODEL_63d67d4afca14e058b42a52c2e81449c",
       "value": 10
      }
     },
     "cab35bb80d4e40ceb57b0e93edca74b0": {
      "model_module": "@jupyter-widgets/base",
      "model_module_version": "1.1.0",
      "model_name": "LayoutModel",
      "state": {}
     },
     "cb78e40f83fe48d389935f3f36590bad": {
      "model_module": "@jupyter-widgets/base",
      "model_module_version": "1.1.0",
      "model_name": "LayoutModel",
      "state": {}
     },
     "cc7f8b32977d461f907766da13a0a58d": {
      "model_module": "@jupyter-widgets/controls",
      "model_module_version": "1.4.0",
      "model_name": "VBoxModel",
      "state": {
       "_dom_classes": [
        "widget-interact"
       ],
       "children": [
        "IPY_MODEL_9d2530835bfd46f78154dbb26ca64d29",
        "IPY_MODEL_11c3dafc395f4559ab128350ec9261e1"
       ],
       "layout": "IPY_MODEL_117237557d5b4648a18176f183d88019"
      }
     },
     "cca7a5b1f87f46f18ded5b09bb3303b7": {
      "model_module": "@jupyter-widgets/controls",
      "model_module_version": "1.4.0",
      "model_name": "IntSliderModel",
      "state": {
       "layout": "IPY_MODEL_113bba92b091463fb973c4ee833a602a",
       "style": "IPY_MODEL_7a71d99d38b34ce4b4ccf84fd4a0f39f",
       "value": 50
      }
     },
     "cccb4748c61345e7a330bcab42305638": {
      "model_module": "@jupyter-widgets/base",
      "model_module_version": "1.1.0",
      "model_name": "LayoutModel",
      "state": {}
     },
     "cea89ef20a3141239a795c47f50af62b": {
      "model_module": "@jupyter-widgets/controls",
      "model_module_version": "1.4.0",
      "model_name": "SliderStyleModel",
      "state": {
       "description_width": ""
      }
     },
     "ceb93990914b43f8b3d06de46abd9f58": {
      "model_module": "@jupyter-widgets/controls",
      "model_module_version": "1.4.0",
      "model_name": "DescriptionStyleModel",
      "state": {
       "description_width": ""
      }
     },
     "cf9e1272164d4973bcbb5835585872a9": {
      "model_module": "@jupyter-widgets/controls",
      "model_module_version": "1.4.0",
      "model_name": "SliderStyleModel",
      "state": {
       "description_width": ""
      }
     },
     "d147df2823e74bf29a7217af0b65dbe0": {
      "model_module": "@jupyter-widgets/controls",
      "model_module_version": "1.4.0",
      "model_name": "PlayModel",
      "state": {
       "description": "Press play",
       "layout": "IPY_MODEL_ac852153f489430b89b5d1298053b887",
       "style": "IPY_MODEL_f4539b3b26b64ca0b2fc2c4d987c53bc",
       "value": 50
      }
     },
     "d2551745cb8f4f3e98f666b08562ce49": {
      "model_module": "@jupyter-widgets/base",
      "model_module_version": "1.1.0",
      "model_name": "LayoutModel",
      "state": {}
     },
     "d268499c2ac341aa8921e626d6c38a79": {
      "model_module": "@jupyter-widgets/controls",
      "model_module_version": "1.4.0",
      "model_name": "SliderStyleModel",
      "state": {
       "description_width": ""
      }
     },
     "d2ceaf7f60dd453ca511c8c6c1c583f2": {
      "model_module": "@jupyter-widgets/controls",
      "model_module_version": "1.4.0",
      "model_name": "IntSliderModel",
      "state": {
       "layout": "IPY_MODEL_9ac4d2210a1c49e89a13420883223239",
       "style": "IPY_MODEL_56ee24d71e2c4b69843bbb773aeac100",
       "value": 50
      }
     },
     "d30685c2b34642b5a8223f74ecff98e1": {
      "model_module": "@jupyter-widgets/controls",
      "model_module_version": "1.4.0",
      "model_name": "FloatSliderModel",
      "state": {
       "description": "freq",
       "layout": "IPY_MODEL_1eeb186f13d744cf997c1bf3215e9616",
       "max": 5,
       "min": 1,
       "step": 0.5,
       "style": "IPY_MODEL_776665027704484596af0babea3937aa",
       "value": 5
      }
     },
     "d33979877bbe4767bc834465a8b9107f": {
      "model_module": "@jupyter-widgets/controls",
      "model_module_version": "1.4.0",
      "model_name": "VBoxModel",
      "state": {
       "_dom_classes": [
        "widget-interact"
       ],
       "children": [
        "IPY_MODEL_5040d7c1d4de43fcae1ba9e7c3ac8a0d",
        "IPY_MODEL_44af83b8540642239f38554ee3f24c0a"
       ],
       "layout": "IPY_MODEL_51e3cb8011f24051a7a67d1d7bba6f5e"
      }
     },
     "d3a9d6d1644440a3b57b9a47aae934e9": {
      "model_module": "@jupyter-widgets/controls",
      "model_module_version": "1.4.0",
      "model_name": "VBoxModel",
      "state": {
       "_dom_classes": [
        "widget-interact"
       ],
       "children": [
        "IPY_MODEL_0262259543b84ec8b05ef8128a11d36d",
        "IPY_MODEL_a0ab081af85e45f59a02a65caf0830b1"
       ],
       "layout": "IPY_MODEL_7d439041f9884cbfb7b669e757df9114"
      }
     },
     "d3bca240ad174d7ea4a1bd5a7057a4eb": {
      "model_module": "@jupyter-widgets/controls",
      "model_module_version": "1.4.0",
      "model_name": "DescriptionStyleModel",
      "state": {
       "description_width": ""
      }
     },
     "d55582b0687c43b4b7200ed94573db3d": {
      "model_module": "@jupyter-widgets/output",
      "model_module_version": "1.0.0",
      "model_name": "OutputModel",
      "state": {
       "layout": "IPY_MODEL_eca17abaf5004fbc8988e497bae5ad37",
       "outputs": [
        {
         "data": {
          "text/plain": "10"
         },
         "metadata": {},
         "output_type": "display_data"
        }
       ]
      }
     },
     "d5c5ba2521ef43388a3ba411b5f52aa0": {
      "model_module": "@jupyter-widgets/controls",
      "model_module_version": "1.4.0",
      "model_name": "TextModel",
      "state": {
       "description": "P4",
       "layout": "IPY_MODEL_0766485daff7436f9c87d61a9d833bf9",
       "style": "IPY_MODEL_1fc7fb64c9d74fe3a42b4f84a9eb45eb"
      }
     },
     "dd58c852959c4f5e922a7f3f4ffd461c": {
      "model_module": "@jupyter-widgets/controls",
      "model_module_version": "1.4.0",
      "model_name": "LinkModel",
      "state": {
       "source": [
        "IPY_MODEL_eb36dd598c4947f7adc3573dedb200d1",
        "value"
       ],
       "target": [
        "IPY_MODEL_213c15d2300949bdaba7b8da00d2a41d",
        "value"
       ]
      }
     },
     "de3dc3fdb6434826a15222a401a482f0": {
      "model_module": "@jupyter-widgets/controls",
      "model_module_version": "1.4.0",
      "model_name": "PlayModel",
      "state": {
       "description": "Press play",
       "layout": "IPY_MODEL_e4da06352ba44ca991d55f4513c8d1de",
       "style": "IPY_MODEL_b131d363c35f4105a00b58f9e703dde7",
       "value": 50
      }
     },
     "de5373af9b57439cb20619899e7fab8a": {
      "model_module": "@jupyter-widgets/base",
      "model_module_version": "1.1.0",
      "model_name": "LayoutModel",
      "state": {}
     },
     "df3ed5055d1747c390d191840680fb56": {
      "model_module": "@jupyter-widgets/controls",
      "model_module_version": "1.4.0",
      "model_name": "DescriptionStyleModel",
      "state": {
       "description_width": ""
      }
     },
     "e004a9b846024a32a1003bcbc6d0d9d2": {
      "model_module": "@jupyter-widgets/controls",
      "model_module_version": "1.4.0",
      "model_name": "FloatSliderModel",
      "state": {
       "description": "freq",
       "layout": "IPY_MODEL_0722edbd394744488bd9069be59be240",
       "max": 5,
       "min": 1,
       "step": 0.5,
       "style": "IPY_MODEL_670358fcb9964243a420f1ba89394f35",
       "value": 5
      }
     },
     "e024716fd0024bf784cb184433992ff2": {
      "model_module": "@jupyter-widgets/base",
      "model_module_version": "1.1.0",
      "model_name": "LayoutModel",
      "state": {}
     },
     "e17d832c8b7e4fcc9f05307272fc39e9": {
      "model_module": "@jupyter-widgets/base",
      "model_module_version": "1.1.0",
      "model_name": "LayoutModel",
      "state": {}
     },
     "e1c4579c14de47f2b84039f7d8aaa4af": {
      "model_module": "@jupyter-widgets/controls",
      "model_module_version": "1.4.0",
      "model_name": "TextModel",
      "state": {
       "description": "P1",
       "layout": "IPY_MODEL_a81c9e89975148cfa6db13376e9957e6",
       "style": "IPY_MODEL_82e93a18451a4a38a33ef5881951c52f"
      }
     },
     "e2d75822882a4e6f833ad7db2aa40d5c": {
      "model_module": "@jupyter-widgets/controls",
      "model_module_version": "1.4.0",
      "model_name": "CheckboxModel",
      "state": {
       "description": "x",
       "disabled": false,
       "layout": "IPY_MODEL_baad7e99bf3f483ba7d24eb30163a91c",
       "style": "IPY_MODEL_34c2702a5e8c43fb8fc1258ce1da1c35",
       "value": true
      }
     },
     "e2f8e991a538454a88c698fedfd4e183": {
      "model_module": "@jupyter-widgets/controls",
      "model_module_version": "1.4.0",
      "model_name": "TextModel",
      "state": {
       "description": "x",
       "layout": "IPY_MODEL_6bb1e32dcfe046e2b62274b4849b3b32",
       "style": "IPY_MODEL_5e15f3c69f9f4823b6c12487ab201a32",
       "value": "Hi there!"
      }
     },
     "e3254c4bee5d4f719eb7487705cada4a": {
      "model_module": "@jupyter-widgets/controls",
      "model_module_version": "1.4.0",
      "model_name": "TextModel",
      "state": {
       "description": "P0",
       "layout": "IPY_MODEL_aefb207b87534aa280305c3afe5d3a4c",
       "style": "IPY_MODEL_201447eb0a9040d4b5c19f287574e3b5"
      }
     },
     "e33cb8ef3f544005be5418e6fee49e1b": {
      "model_module": "@jupyter-widgets/controls",
      "model_module_version": "1.4.0",
      "model_name": "TextModel",
      "state": {
       "description": "P0",
       "layout": "IPY_MODEL_aeaa62df5db04cce981cea73e167e89d",
       "style": "IPY_MODEL_edde1c969075438f8d9fc96473d79727"
      }
     },
     "e4bd13469fc34ebd993e7a595a15fed6": {
      "model_module": "@jupyter-widgets/controls",
      "model_module_version": "1.4.0",
      "model_name": "DescriptionStyleModel",
      "state": {
       "description_width": ""
      }
     },
     "e4da06352ba44ca991d55f4513c8d1de": {
      "model_module": "@jupyter-widgets/base",
      "model_module_version": "1.1.0",
      "model_name": "LayoutModel",
      "state": {}
     },
     "e535f745705d4c9584ad28e3b4fb52c7": {
      "model_module": "@jupyter-widgets/controls",
      "model_module_version": "1.4.0",
      "model_name": "ButtonModel",
      "state": {
       "description": "Click me",
       "icon": "check",
       "layout": "IPY_MODEL_3945ade21a0d43b882c4c709a89fc3fd",
       "style": "IPY_MODEL_2f91695d4b054d8c8bbfe91f5f7fad4d",
       "tooltip": "Click me"
      }
     },
     "e5fe9082368e41c08bb4680fae6a165b": {
      "model_module": "@jupyter-widgets/base",
      "model_module_version": "1.1.0",
      "model_name": "LayoutModel",
      "state": {}
     },
     "e6cbc379377a437194b93dcef20f27b2": {
      "model_module": "@jupyter-widgets/output",
      "model_module_version": "1.0.0",
      "model_name": "OutputModel",
      "state": {
       "layout": "IPY_MODEL_5ffdcb82df6148998cff180b24c3016d",
       "outputs": [
        {
         "data": {
          "text/plain": "'Hi there!'"
         },
         "metadata": {},
         "output_type": "display_data"
        }
       ]
      }
     },
     "e6e30e4ec0aa42bebbd466cbd81c89fb": {
      "model_module": "@jupyter-widgets/output",
      "model_module_version": "1.0.0",
      "model_name": "OutputModel",
      "state": {
       "layout": "IPY_MODEL_ab177c0665194c03a1d7e6c947e971b4"
      }
     },
     "e770b11d0526475dba719e313f8a8b5f": {
      "model_module": "@jupyter-widgets/base",
      "model_module_version": "1.1.0",
      "model_name": "LayoutModel",
      "state": {
       "border": "1px solid black"
      }
     },
     "e8960217051a4e4688c1a0b1fc9a6917": {
      "model_module": "@jupyter-widgets/base",
      "model_module_version": "1.1.0",
      "model_name": "LayoutModel",
      "state": {}
     },
     "e8fcd4768b8d4751b8b78303b79cd685": {
      "model_module": "@jupyter-widgets/controls",
      "model_module_version": "1.4.0",
      "model_name": "DescriptionStyleModel",
      "state": {
       "description_width": ""
      }
     },
     "e9cf9d345bae472f9f8aa4ffb6933cea": {
      "model_module": "@jupyter-widgets/output",
      "model_module_version": "1.0.0",
      "model_name": "OutputModel",
      "state": {
       "layout": "IPY_MODEL_7ddf173b2c0c404d9cf731fa2b6b8670",
       "outputs": [
        {
         "data": {
          "text/plain": "True"
         },
         "metadata": {},
         "output_type": "display_data"
        }
       ]
      }
     },
     "eb36dd598c4947f7adc3573dedb200d1": {
      "model_module": "@jupyter-widgets/controls",
      "model_module_version": "1.4.0",
      "model_name": "PlayModel",
      "state": {
       "description": "Press play",
       "layout": "IPY_MODEL_403adddcb8934a9c851acddd761459ed",
       "style": "IPY_MODEL_2409f0318c034618bab04626d79c2d74",
       "value": 50
      }
     },
     "ec63453a682047269ffec82a20ed9570": {
      "model_module": "@jupyter-widgets/controls",
      "model_module_version": "1.4.0",
      "model_name": "TextModel",
      "state": {
       "description": "P1",
       "layout": "IPY_MODEL_469a6229dad24ae8afed5ddc734e267b",
       "style": "IPY_MODEL_c73a284a391a4d58bfbaf3255debf4b0"
      }
     },
     "eca17abaf5004fbc8988e497bae5ad37": {
      "model_module": "@jupyter-widgets/base",
      "model_module_version": "1.1.0",
      "model_name": "LayoutModel",
      "state": {}
     },
     "ed11723c9cd94ee8802a35fd069cfb98": {
      "model_module": "@jupyter-widgets/base",
      "model_module_version": "1.1.0",
      "model_name": "LayoutModel",
      "state": {}
     },
     "edde1c969075438f8d9fc96473d79727": {
      "model_module": "@jupyter-widgets/controls",
      "model_module_version": "1.4.0",
      "model_name": "DescriptionStyleModel",
      "state": {
       "description_width": ""
      }
     },
     "efb9c867ea4a48f38b09e70b7472bd39": {
      "model_module": "@jupyter-widgets/controls",
      "model_module_version": "1.4.0",
      "model_name": "VBoxModel",
      "state": {
       "_dom_classes": [
        "widget-interact"
       ],
       "children": [
        "IPY_MODEL_f757bb36a852457294ca1f21edd429f1",
        "IPY_MODEL_731a4daee1ce4505a56c71a1d4d0fbd9"
       ],
       "layout": "IPY_MODEL_cab35bb80d4e40ceb57b0e93edca74b0"
      }
     },
     "f11951d647484f40800b976f51cbae02": {
      "model_module": "@jupyter-widgets/controls",
      "model_module_version": "1.4.0",
      "model_name": "VBoxModel",
      "state": {
       "_dom_classes": [
        "widget-interact"
       ],
       "children": [
        "IPY_MODEL_2cabe6fae8e744eba3cdbac1d87e4c95",
        "IPY_MODEL_e9cf9d345bae472f9f8aa4ffb6933cea"
       ],
       "layout": "IPY_MODEL_6828bd57989b4531b7a47cea86d1d6ee"
      }
     },
     "f164427706f34aed884a034ba0e9fb73": {
      "model_module": "@jupyter-widgets/base",
      "model_module_version": "1.1.0",
      "model_name": "LayoutModel",
      "state": {}
     },
     "f321731292a7412292da07febdfecc2d": {
      "model_module": "@jupyter-widgets/controls",
      "model_module_version": "1.4.0",
      "model_name": "DescriptionStyleModel",
      "state": {
       "description_width": ""
      }
     },
     "f4539b3b26b64ca0b2fc2c4d987c53bc": {
      "model_module": "@jupyter-widgets/controls",
      "model_module_version": "1.4.0",
      "model_name": "DescriptionStyleModel",
      "state": {
       "description_width": ""
      }
     },
     "f49bca9ace6542bd9b8994f1aaed9671": {
      "model_module": "@jupyter-widgets/base",
      "model_module_version": "1.1.0",
      "model_name": "LayoutModel",
      "state": {}
     },
     "f4c618670b7b44209db30d9761aa9ad3": {
      "model_module": "@jupyter-widgets/controls",
      "model_module_version": "1.4.0",
      "model_name": "IntSliderModel",
      "state": {
       "description": "x",
       "layout": "IPY_MODEL_93c3b6c841a94d1b9eb7d2de4363a892",
       "max": 30,
       "min": -10,
       "style": "IPY_MODEL_12ceadc1c3204fdebf6be303acb5686b",
       "value": 10
      }
     },
     "f63f5a78e5a140a28e49dae43fab1f40": {
      "model_module": "@jupyter-widgets/controls",
      "model_module_version": "1.4.0",
      "model_name": "ButtonModel",
      "state": {
       "description": "Click me",
       "icon": "check",
       "layout": "IPY_MODEL_7855612e4ade461faad5cd7ccc64e86f",
       "style": "IPY_MODEL_3440deb2f78449e386ae05aa0b03cf81",
       "tooltip": "Click me"
      }
     },
     "f669059bb94c451aa222730b580b7ab4": {
      "model_module": "@jupyter-widgets/controls",
      "model_module_version": "1.4.0",
      "model_name": "TextModel",
      "state": {
       "description": "P3",
       "layout": "IPY_MODEL_fea674f0fefe4a02a1b4d37dd4c3a1dc",
       "style": "IPY_MODEL_3a3b430c507c4f628b3785362ddb317e"
      }
     },
     "f757bb36a852457294ca1f21edd429f1": {
      "model_module": "@jupyter-widgets/controls",
      "model_module_version": "1.4.0",
      "model_name": "TextModel",
      "state": {
       "description": "x",
       "layout": "IPY_MODEL_a24ee884c2f846028ff920fefdc29ef2",
       "style": "IPY_MODEL_05aef10814b7485499a6402d5f0abe77",
       "value": "Hi there!"
      }
     },
     "f7f6c6b048b64f51ae20981b7837a615": {
      "model_module": "@jupyter-widgets/controls",
      "model_module_version": "1.4.0",
      "model_name": "TextModel",
      "state": {
       "description": "P4",
       "layout": "IPY_MODEL_de5373af9b57439cb20619899e7fab8a",
       "style": "IPY_MODEL_9570cf4d519548acb307ee30017321c5"
      }
     },
     "fb358f8ac6ca4c95b94534cc26cb9729": {
      "model_module": "@jupyter-widgets/base",
      "model_module_version": "1.1.0",
      "model_name": "LayoutModel",
      "state": {}
     },
     "fcf3345d4296418087113c3881a2a553": {
      "model_module": "@jupyter-widgets/controls",
      "model_module_version": "1.4.0",
      "model_name": "TextModel",
      "state": {
       "description": "P2",
       "layout": "IPY_MODEL_95bdbcc4da3f4865981ac750e517a6f1",
       "style": "IPY_MODEL_e4bd13469fc34ebd993e7a595a15fed6"
      }
     },
     "fe79b70a60234f9cb90bf8f8f3f5585d": {
      "model_module": "@jupyter-widgets/base",
      "model_module_version": "1.1.0",
      "model_name": "LayoutModel",
      "state": {}
     },
     "fea674f0fefe4a02a1b4d37dd4c3a1dc": {
      "model_module": "@jupyter-widgets/base",
      "model_module_version": "1.1.0",
      "model_name": "LayoutModel",
      "state": {}
     },
     "ff80007368394ba5a352912c3b6c0970": {
      "model_module": "@jupyter-widgets/controls",
      "model_module_version": "1.4.0",
      "model_name": "TextModel",
      "state": {
       "description": "x",
       "layout": "IPY_MODEL_788451d09ab7445a9068f1a7eaca1ad9",
       "style": "IPY_MODEL_9facbed9b61b474bad924b9e94b03793",
       "value": "Hi there!"
      }
     },
     "fff6562604cd4579847a7b7cd4c90b5d": {
      "model_module": "@jupyter-widgets/base",
      "model_module_version": "1.1.0",
      "model_name": "LayoutModel",
      "state": {}
     }
    },
    "version_major": 2,
    "version_minor": 0
   }
  }
 },
 "nbformat": 4,
 "nbformat_minor": 2
}
